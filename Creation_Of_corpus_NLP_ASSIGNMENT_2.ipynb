{
  "cells": [
    {
      "cell_type": "markdown",
      "metadata": {
        "id": "view-in-github",
        "colab_type": "text"
      },
      "source": [
        "<a href=\"https://colab.research.google.com/github/KingJayant/Sentiment-Analysis/blob/main/Creation_Of_corpus_NLP_ASSIGNMENT_2.ipynb\" target=\"_parent\"><img src=\"https://colab.research.google.com/assets/colab-badge.svg\" alt=\"Open In Colab\"/></a>"
      ]
    },
    {
      "cell_type": "markdown",
      "metadata": {
        "id": "21S9B0j_tUKD"
      },
      "source": [
        "# Data Cleaning"
      ]
    },
    {
      "cell_type": "markdown",
      "metadata": {
        "id": "pXqacrE3tUKF"
      },
      "source": [
        "` Data cleaning is a time consuming and unenjoyable task, yet it's a very important one. Keep in mind, \"garbage in, garbage out\".`\n",
        "\n",
        "#### Feeding dirty data into a model will give us results that are meaningless.\n",
        "\n",
        "### Objective:\n",
        "\n",
        "1. Getting the data\n",
        "2. Cleaning the data\n",
        "3. Organizing the data - organize the cleaned data into a way that is easy to input into other algorithms\n",
        "\n",
        "### Output :\n",
        "#### cleaned and organized data in two standard text formats:\n",
        "\n",
        "1. Corpus - a collection of text\n",
        "2. Document-Term Matrix - word counts in matrix format"
      ]
    },
    {
      "cell_type": "markdown",
      "metadata": {
        "id": "bLWCYCzOtUKF"
      },
      "source": [
        "## Problem Statement"
      ]
    },
    {
      "cell_type": "markdown",
      "metadata": {
        "id": "QUSXeyTYtUKF"
      },
      "source": [
        "Look at transcripts of various comedians and note their similarities and differences and find if the stand up comedian of your choice has comedy style different than other comedian.\n"
      ]
    },
    {
      "cell_type": "markdown",
      "metadata": {
        "id": "iTbKBvjztUKF"
      },
      "source": [
        "## Getting The Data"
      ]
    },
    {
      "cell_type": "markdown",
      "metadata": {
        "id": "SxUAJMuXtUKF"
      },
      "source": [
        "You can get the transcripts of some comedian from [Scraps From The Loft](http://scrapsfromtheloft.com).\n",
        "\n",
        "You can take help of IMDB and select only 10 or 20 comedian having highest rating.\n",
        "\n",
        "\n",
        "\n",
        "\n",
        "\n",
        "\n",
        "### For example:"
      ]
    },
    {
      "cell_type": "code",
      "execution_count": null,
      "metadata": {
        "id": "n79QGf3ptUKG"
      },
      "outputs": [],
      "source": [
        "# Web scraping, pickle imports\n",
        "import requests\n",
        "from bs4 import BeautifulSoup\n",
        "import pickle\n",
        "\n",
        "# Scrapes transcript data from scrapsfromtheloft.com\n",
        "def url_to_transcript(url):\n",
        "    '''Returns transcript data specifically from scrapsfromtheloft.com.'''\n",
        "    page = requests.get(url).text\n",
        "    soup = BeautifulSoup(page, \"html.parser\")\n",
        "    para=soup.find_all('p')\n",
        "    text=[p.text for p in para]\n",
        "    print(url,'\\n')\n",
        "    print(text)\n",
        "    return text\n",
        "\n",
        "    # Check if the class \"post-content\" exists in the HTML\n",
        "    # post_content = soup.find(class_=\"elementor-widget-container\")\n",
        "    # if post_content:\n",
        "    #     # Extract text from paragraphs inside \"post-content\"\n",
        "    #     text = [p.text for p in post_content.find_all('p')]\n",
        "    #     print(url)\n",
        "    #     print(text)\n",
        "    #     return text\n",
        "    # else:\n",
        "    #     print(f\"Class 'post-content' not found in {url}\")\n",
        "    #     return None\n",
        "\n",
        "\n",
        "# URLs of TVSeries transcripts in scope\n",
        "urls = ['https://scrapsfromtheloft.com/tv-series/true-detective-s04e03-part-3-transcript/',\n",
        "        'https://scrapsfromtheloft.com/tv-series/masters-of-the-air-part-one-transcript/',\n",
        "        'https://scrapsfromtheloft.com/tv-series/monsieur-spade-episode-2-transcript/',\n",
        "        'https://scrapsfromtheloft.com/tv-series/slow-horses-s03e06-footprints-transcript/',\n",
        "        'https://scrapsfromtheloft.com/tv-series/letterkenny-s12e06-over-and-out-transcript/']\n",
        "\n",
        "\n",
        "# TvSeries names\n",
        "TvSeries = ['TRUE DETECTIVE', 'MASTERS OF THE AIR', 'MONSIEUR SPADE', 'SLOW HORSES', 'LETTERKENNY']"
      ]
    },
    {
      "cell_type": "code",
      "execution_count": null,
      "metadata": {
        "id": "TsGNWvBTtUKG",
        "outputId": "ad2a22ac-cd96-4563-f2f3-4c2251eb1d3d"
      },
      "outputs": [
        {
          "name": "stdout",
          "output_type": "stream",
          "text": [
            "https://scrapsfromtheloft.com/tv-series/true-detective-s04e03-part-3-transcript/ \n",
            "\n",
            "['True Detective\\nSeason 4 Episode 3\\nEpisode Title:\\xa0\\nOriginal release date: January 28, 2024 (HBO and Max)', 'Plot summary: In this episode of True Detective, a complex web of past and present events unfolds. Seven years ago, Navarro’s encounter with Anne, initially arrested for damaging the Silver Sky mining factory, takes an unexpected turn as she discovers her dedication to assisting pregnant women in need. In the present day, Hank enlists the help of his hunter friends in the search for Clark, despite Navarro’s reservations. Danvers delves into her troubled history with Navarro, revealing their investigation into a violent criminal named William Wheeler. Susan, a friend of Anne, divulges crucial information about Anne’s involvement with Clark and her past relationship with a Tsalal member, Oliver Tabaq. Meanwhile, a mysterious discovery regarding the deceased researchers raises questions, and Lund’s awakening brings forth cryptic and unsettling revelations, leaving Danvers and Navarro with more questions than answers.', '* * *', '(rumbling)', '(eerie breathing)', '(unsettling music playing)', '(sighs)', 'Evangeline: APF, open up, please.', '(tense music playing)', '(person screaming)', 'Evangeline: APF, open up, now!', '(person wails)', '♪', '(screaming)', 'Speaker: Please help! (cries)', 'Evangeline: Annie Masu Kowtok?', 'Annie Kowtok: Yeah?', 'Evangeline: You’re under arrest for trespassing and the destruction of private property at the Silver Sky Mining facilities. Turn around and hands behind your head.', 'Annie: I’m gonna need a minute.', 'Evangeline: Ma’am.', '(screaming)', 'Evangeline: Ma’am, I said turn around and hands behind your head.', 'Annie: She’s 10 centimeters dilated. Contractions every two minutes. Shoot me, but I’m getting that baby out of her.', '(wailing)', 'Evangeline: Is this a clinic?', 'Annie: It’s a birthing center. The last one in the region. Do you wanna arrest me for that too?', '(doula humming)', '(groaning)', 'Annie: Grace, Grace. (speaking Inupiaq) Okay?', '(panting)', 'Grace: What’s that bitch doing here?', '(humming stops)', 'Annie: She’s helping. Bring hot water. Grace, Grace. Breathe, breathe.', '(Grace panting, crying)', '(Annie speaking Inupiaq)', 'Annie: Okay? Breathe, breathe. Take some deep breaths. Deep breaths, okay?', '(Annie speaking Inupiaq)', 'Grace: (deep breathing)', 'Put the water in.', 'Annie: You’re doing good. You’re doing great. Deep breath, deep breath.', '(Grace panting)', 'Annie: Grace, Grace. On the next big one, you push, okay? Give it a really good push, okay?', '(crying)', '(Annie speaking Inupiaq)', '(Grace crying, groaning)', 'Annie: Okay, give me a good push.', 'Doula: Push.', '(Grace groaning)', 'Push!', '(Grace yelling)', 'All: Push!', '(screaming)', 'Annie: It’s here, it’s here. Okay, okay.', '(relieved, excited chatter)', '(laughter)', 'Doula: It’s a little baby girl, Grace!', '(panting)', 'Grace: My baby. I wanna hold my baby. I wanna see her.', 'Doula: Takes a few minutes sometimes, Grace.', 'Annie: Give me that.', 'Grace: Why isn’t she, why isn’t she crying?', 'She’ll be fine. It’s okay. It’s okay.', 'Grace: But she’s not crying! Annie, why isn’t she crying?', 'Annie: She’s coming. She’s coming.', 'Grace: Annie!', 'Annie: We have to do CPR.', 'Grace (crying): Annie, I wanna hold her!', 'Okay, come on.', 'One, two, three.', 'Grace: What’s happening? What’s happening?! Please! Please!', '(counting)', '(baby crying)', '(gasps)', '(sighs of relief)', '(relieved chatter, laughter)', '(Grace and baby crying)', '(light music playing)', '(baby quiets)', 'Annie: You take her from here, okay?', '(baby cries)', '(Annie exhales)', '(soft humming, singing)', '♪', 'Annie: Now we can go.', 'Evangeline: (sighs)', '(humming, singing)', 'DECEMBER 22. 5TH DAY OF NIGHT', '(police radio chatter)', '(dog barking)', '(indistinct chatter)', '(car horn plays “Dixie,” honks)', 'Hank: Here we go. Hey, hey.', 'Hey, Paulie!', 'Ha, ha!', 'Hank: Alright. Lookin’ good here. Yeah, yeah, Scotty.', 'Gotta lock and load. Lock and load, buddy.', 'What’s up, Paulie? Bringin’ out the big guns, huh?', '(indistinct chatter)', 'Evangeline: What the fuck are you doing? This is a task op. Your boys here are a liability.', 'Hank; I’ll take all the help I can get. Okay, everybody, gather around.', '(dog barking)', '(light, tense music playing)', 'Hank: Alright, listen up. Suspect is Raymond Clark, 5’11, brown hair, brown eyes. Last seen wearing a pink parka. Consider him armed and dangerous. He’s got at least a 48-hour head start on us, so we gotta move. We’re gonna break into search groups. Agents Cooper and Lee are in charge of sweeping the tundra. They’ll proceed north together, then fan out at three-mile intervals. Trooper Davis is gonna inspect the mining dredges. Checkpoints go up at 15 miles. Radio chain maintained at all times. Now let’s go get this fucker.', '(group cheering)', '(chattering)', '(dog barking)', 'Evangeline: Hey, we want him alive.', 'Hank: Do we?', '(engine starts)', '♪', '(“Bury a friend” by Billie Eilish playing)', '♪ What do you want from me? ♪', '♪ Why don’t you run from me? ♪', '♪ What are you wondering? ♪', '♪ What do you know? ♪', '♪ Why aren’t you scared of me? ♪', '♪ Why do you care for me? ♪', '♪ When we all fall asleep, where do we go? ♪', '♪ Come here ♪', '♪ Say it, spit it out ♪', '♪ What is it exactly you’re payin’? ♪', '♪ Is the amount cleanin’ you out? ♪', '♪ Am I satisfactory? ♪', '♪ Today, I’m thinkin’ about the things that are deadly ♪', '♪ The way I’m drinkin’ you down ♪', '♪ Like I wanna drown, like I wanna end me ♪', '♪ Step on the glass ♪', '♪ Staple your tongue, aah ♪', '♪ Bury a friend, try to wake up, aah ♪', '♪ Cannibal class, killin’ the son, aah ♪', '♪ Bury a friend ♪', '♪ I wanna end me ♪', '♪ I wanna end me ♪', '♪ I wanna, I wanna, I wanna ♪', '♪ Why aren’t you scared of me? ♪', '♪ Why do you care for me? ♪', '♪ When we all fall asleep, where do we go? ♪', '♪ I wanna end me ♪', '♪ End me ♪', '(office phone ringing)', 'Liz Danvers: Hank, this is Danvers, over. Hank, answer the fuckin’ radio. Your father’s recruiting civilians. Hey, Lulu?', 'Lulu: Yeah?', 'Liz: Will you get a trooper on the phone and have him get Hank on his fuckin’ radio?', 'Lulu: Okay!', 'Liz: Alright, where’s my forensic technician?', 'Peter: He’s booked on the evening charter. And Lund is still in a coma. They had to amputate both his legs. Still might lose his left forearm.', 'Liz: Oof. I still need to talk to him.', 'Peter: Yes, ma’am. And good luck with that.', 'Liz: When’s Clark’s stuff comin’ from the trailer? What’s Clark’s shit doin’ in the evidence room?', 'Peter: Well, it’s evidence.', 'Liz: Yeah, well, move it someplace sanitary. The place is disgusting. Stinks. Alright, I’m gonna need a tetanus shot just to look at this shit. How many boxes we got?', 'Peter: Nineteen.', 'Liz: Nineteen. Alright, well… call Navarro. Hit up her Trooper command and tell him I’m requesting a transfer for her. Okay? Just temporarily.', 'Peter: Uh, I thought you hated Navarro.', 'Liz: I do. I hate everyone. Hate you, especially now. Here. Annie K’s cell. Crack that, will ya?', 'Peter: Crack it?', 'Liz: Yeah.', 'Peter: I’m not a hacker.', 'Liz: Well, you’re under 30. You got friends. Why don’t you just figure it out?', 'Peter: Figure it out, yeah.', 'Liz: What? What? … Ask the question. (sighs)', 'Peter: What happened the last case you worked with Navarro? The Wheeler case… ’cause that was it for you guys, right?', 'Liz: Alright. Only one bedtime story. It was a murder-suicide. William Wheeler. He was a bad, bad motherfucker. Sexual assault… armed robbery, assault and battery. He was in and out a bunch. The last time he came out, he took up with an 18-year-old girl. He beat her, hard. Sent her to the hospital… twice. Broken arm… smashed jaw… some other things. We went to his place a buncha times but she wouldn’t report him.\\xa0 His story was always the same.', '“Ah, she was drunk, Officer.”', '“Fell down the stairs, Officer.”', 'Liz: We knew how that was gonna end… but there was nothin’ we could do.', '(unsettling music playing)', 'Liz: Then we got the call.', '(suspenseful music playing)', 'Liz: We were too late. He killed her and he shot himself.', '(music fades)', '(whistling “Twist and Shout” by The Beatles)', '(unsettling music playing)', 'Liz: They were both dead when we got there. Navarro couldn’t get over it. Uh, she was convinced that there was somethin’ we should’ve done. She blamed me, of course. And it got nasty. Transferred over to Troopers, and… end of story. Gotta keep icin’ that thing, huh? It’s funny. League hockey champion fallin’ on his face in the ice rink. Alright, go on. Go get her. Go get Navarro. Go tell your dad to get rid of his hillbilly friends, or I’m gonna call immigration on his Russian mail-order bride!', '(sighs)', '(dog barking)', '(distant shouting)', 'Hunter 1: No, nothing! What about over there?', 'Hunter 2: Nothin’, man!', '(groans, sighs)', 'Voice (whispers): Help us.', '(unsettling music playing)', '(eerie breathing)', '♪', '(radio beeps)', 'Lulu (over radio): Navarro. Calling Navarro. Are you there, Navarro?', 'Evangeline: Navarro here.', '(“Sing Sing” by The Bones of J.R. Jones playing)', 'Evangeline: Let’s do this.', '♪ Sing, sing, won’t you sing for me ♪', '♪ Beast in your belly, lord, you’ve got to let it breathe ♪', '♪ Down, down in a hole in the ground ♪', '♪ There are ghosts that never can be found ♪', '♪ Home, home, home is in the ground ♪', '♪ You’re only waitin’ at the end of the road ♪', '♪ Sing, oh, sing for me ♪', '♪ Beast in your belly, lord, you’ve got to let it breathe ♪', '♪ Breathe for me ♪', '♪', '♪ Sing, oh, sing for me ♪', '♪ Beast in your belly, you’ve got to let it breathe ♪', '♪ Sing, oh, sing for me ♪', '(song ends)', 'Liz: What are we missin’ here?', '(office phone ringing)', 'Liz: Oh… this. Spring 2016. They must’ve started their relationship before then.', 'Evangeline: Yeah, how do you know that?', 'Liz: See that? Ariana Grande. That came out in May 2016. And Leah played it all the time. Her birthday. (sighs) Drove me nuts. And, um, alright, look at this. Here her hair’s changing color. Here she’s got the blue tint, and, uh, and now it’s fading, see? That’s a long time.', 'Evangeline: Hm. I mean… she looks happy. They look happy.', 'Liz: This… hot, fun girl and this total weirdo.', 'Evangeline: Yeah. No one sees ’em together. A secret affair.', 'Liz: Ask the question.', 'Evangeline: Fuck your games.', 'Liz: Come on, ask the question.', 'Evangeline: (sighs) Why keep it a secret?', 'Liz: Are you still fuckin’ that dog runner bootlegging guy, Qavvik? Or are you back with girls?', 'Evangeline: You still fucking C– Anything that can’t run fast enough? What, freshman? Hey, yo, freshman, you better learn how to run faster.', 'Liz; Hey. Nobody here knows about Ted, alright?', 'Evangeline: (laughs) Come on, Liz… everybody knows.', 'Liz: Well, you think nobody knew about their relationship? Nobody knew they were together?', 'Evangeline: (sighs) Nobody.', 'Liz: Alright. Look at this. Everything else is selfie or timed.', 'Evangeline: That’s a candid photo. Somebody was there with them that day. There has to be more like this one.', '(light music playing)', 'Liz: Yep. … See that? Ya think that’s her hair dye? It’s not a print.', 'Evangeline: Yeah, we don’t need a print.', '(“Like I Do” by Georgina Birch playing over speakers)', '(doorbell chimes)', 'Susan: Hey, I’m gonna be another 20!', '(police radio chatter)', '♪ Ooh, ooh ♪', '♪ No one loves you like I do ♪', 'Evangeline: Hi, Susan.', '♪ Ooh, ooh ♪', '♪ No one loves you like I do ♪', 'Evangeline: What was that color you used on Annie’s hair?', '(chuckles)', 'Evangeline: Ah, right here.', '♪', 'Evangeline: Electric Blue, wasn’t it? You lied to me.', 'Susan: Yeah, I knew Ray.', 'Evangeline: And you just decided not to tell me. Your friend was dead.', 'Susan: Yeah… 32 stabs. It’s a pretty clear message.', 'Child: Mommy? (whimpers)', 'Liz: Mac and cheese. You got any mac and cheese?', 'Susan: Uh, yeah. It’s in the, uh–', 'Liz: Yeah, I’ll find it. Hey, do you know what the name of that unicorn is on your sweater? That’s Puddles. That’s what they called her ’cause she cried a lot. All the mean unicorns called her that but she was just super hungry. Come on.', 'Susan: It’s okay.', 'Liz: We’re gonna go make some mac and cheese. Does that sound good?', 'Child: Yeah.', 'Liz: I’ma tell you all about Puddles. All her story about how she cooks mac and cheese. Here, sit down on this.', 'Child: Okay.', 'Evangeline: You need to start talkin’.', 'Susan: (deep breath) I went to Tsalal to give haircuts to the men there. Annie came with me one time. Once. I didn’t wanna bring her. Sh-She wouldn’t take a no. She was, like, obsessed with coming. So, fuck it, I could use the company.', 'Evangeline: And what happened that one time?', 'Susan; Annie and Ray hit it off. They talked all night. She showed him her tattoo. He was, like, fixated on it.', '(light music playing)', 'Evangeline: This one?', 'Susan: Yeah, that’s it.', 'Evangeline: Do you know what it means?', 'Susan: She dreamt it. We were in high school. A buncha times. She got the tattoo, the dreams stopped.', 'Liz: Alright. Stir, stir, stir. And then, all the unicorns went skating on the lake that Puddles had made with her rainbow tears.', 'Woman; Ugh, I love skating.', 'Susan: I thought it was gonna be a one-night thing. Pretty soon, they were hangin’ out all the time.', 'Evangeline: And what about Clark? Was he… violent? Anything to make you think he might do something?', 'Susan: No. He was, he was quiet. He was-I mean, he was a little weird, but… he was crazy about her. But Annie changed when they started goin’ out.', 'Evangeline: Changed how?', 'Susan: She didn’t want anybody to know they were together. And that was weird.', 'Evangeline: You could’ve told me back then. I would’ve protected you.', 'Susan: I was terrified. Plus, I was seeing a guy from Tsalal.', 'Liz: Wait… who?', 'Susan: Oliver Tagaq.', 'Liz: Oh, there-there’s, there’s no Oliver that works at Tsalal.', 'Susan: He was the equipment engineer. He left right before Annie died.', 'Liz: Um… and, um… do you know where we could find this Oliver?', 'Susan: Last I heard, somewhere out on the ice. Probably hunting. I don’t think he’s lookin’ to be found. (deep breath) After they found her, I did call the police. I just didn’t wanna talk to you ’cause you’da known me. So, I didn’t leave my name. But I told ’em about Clark.', 'Evangeline: Who’d you talk to?', 'Liz: Prior, where’s your dad? Over.', 'Peter (over radio): He’s still out in the search, Chief.', 'Evangeline: There’s plenty of radio signal out there, he’s hidin’ his ass.', 'Peter: I’ll get him to call the minute he gets back.', 'Liz: Yeah, okay, you do that, and, um, see if you can find an Oliver Tagaq. He was an engineer six years ago at Tsalal. Got that?', 'Peter: On it, over.', 'Evangeline: That son of a bitch takes me off the case, and then he buries this lead?', 'Liz: Question is, why is Hank fuckin’ around–', 'Evangeline: Don’t “Ask the question” me! Okay? I’ll tell you why he did it right now. It’s the fucking mine behind it. You know I’m right.', 'Liz: I don’t know shit.', 'Evangeline: Well, then you’re a shit detective.', 'Liz: Yeah, well, whatever. Whatever you say.', 'Evangeline: Annie protests against the mine, Annie gets murdered, the police shush it all, do the fucking math.', 'Liz: You do the fuckin’ math.', 'Evangeline: (sighs)', 'Liz: Alright, without the mine, there’s no town. 50% of the population works for it, which means half the people who live here have got a reason to silence Annie K. And what about Clark, creepy boyfriend? What, you think the mine’s responsible for him too? According to your conspiracy theory, Tsalal and Clark had nothin’ to do with it. Is that it?', 'Evangeline: Not sure yet.', 'Liz: And what about her tongue? Now, what’s-what’s your explanation for her tongue poppin’ up six years after she dies? And what about the men on the ice? Why’d they go out there? … Oh. (scoffs) Come on. Don’t give me that voodoo, E.T., cosmic choompa-loompa bullshit.', 'Evangeline: (laughs) Are you tryna say “chupacabra”?', 'LIz: Whatever, the magic. It’s no magic.', '(Evangeline scoffs)', 'Liz: Alright, there’s a, there’s a real explanation for this.', 'Evangeline: Alright. I’m listening.', 'Liz: We’re just not askin’ the right questions. We will. We’ll find it.', 'Evangeline: Who’s the one that believes in miracles?', '(phone chimes)', 'Evangeline: Fantasy Football?', 'Liz: No, Tinder.', 'Evangeline: You’re on Tinder?', 'Liz: Yeah, I’m on Tinder.', 'Evangeline: Who the fuck is on Tinder in Ennis? Fuckin’ Old Norman Naki and, ugh, Hank Prior?', 'Liz: No, he’s taken. (chuckles) Poor bitch. Yeah, I set my Tinder radius for Fairbanks. Ya know, I’ll take some personal trips. I don’t fuck where I eat.', 'Evangeline: (snorts) You mean, anymore.', 'Liz: Fuck you. What do you do when you’re lonely?', 'Evangeline: I watch Netflix.', 'Liz: Come on. For real. What do you do?', 'Evangeline: I pray.', 'Liz: Liz snorts) (laughing) You pray? What do you mean, like, like, get on your knees, “Our Father, who art in heaven,” pray? (chuckles) Oh, come on. You kiddin’ me? You talk to God?', 'Evangeline: No. I listen.', 'Liz: Oh.', 'Evangeline: Don’t you ever… get this feeling, like– that sometimes you just wanna (sighs) just disappear? Just walk out… never stop? Just go. Just go.', '(light music playing)', '(singer vocalizing)', '(singers vocalizing)', 'Hank: Hey.', 'Peter; Chief Danvers wants you to call–', 'Hank: She can wait. Come here for a second. Uh, I was cleanin’ out the garage and I found these. Yeah, I know, Darwin’s only four, but, uh, you were already a pretty damn good little skater by that age, so. If ya… take him out, shoot me a text, huh?', 'Peter: Yeah, sure.', 'Hank: What’s Danvers up to?', 'Peter: Uh, she’s goin’ through the trailer’s evidence.', 'Hank: She and Navarro?', 'Peter: Yeah.', 'Hank: I don’t know what the hell they’re doin’ together. I thought they hated each other.', 'Peter: You know what happened there? She won’t tell me.', 'Hank: No idea.', 'Evangeline: Hey! You received a direct call about Annie K’s and Raymond Clark’s relationship. A direct call, and you didn’t report it?', 'Hank: Danvers, tell your girl here to stand down.', 'Evangeline: You talk to me. Tell me why the fuck you withheld information from a murder investigation?', 'Hank: Oh, please. That woman was sleeping with half of Ennis. What did you want me to do? Log every dude she was banging in the region?', 'Evangeline: You piece of shit. I swear to God, you’re gonna join your boys over here.', 'Liz: No, no, no. No, no, no. Calm the fuck down. Calm! And you, go back to your fuckin’ search… and get rid of your hillbilly friends. Or you’re gettin’ a negligence report for your mishandling of the Kowtok case.', 'Hank: Maybe I oughta file a report on you for playing Mrs. Robinson with my kid. Hm?', 'Liz: You do your fuckin’ job.', 'Evangeline: That’s it? “Do your fucking job”? That’s all he gets?', 'Liz: Hey, where you goin’?', 'Evangeline: Fuck outta here.', 'Peter: Who’s Mrs. Robinson?', 'Liz: (sighs) Where’s my forensic tech?', 'Peter: Well, there’s a blizzard out in North Bay. Visibility’s shit. No planes are takin’ off, so they’re gonna try again tomorrow.', 'Liz: Ah, tomorrow’s no good. They’re gonna thaw. And they’re gettin’ shipped out to Anchorage.', 'Peter: Well, I have an idea.', 'Liz: What?', 'Peter: I don’t know if you’re gonna like it.', 'Liz: Well…?', 'Peter: My cousin lives in White Lake. He’s a vet. Works a lot with large animals.', 'Liz: How long before you can get him here?', 'Peter: Well, I can call him right now and see.', 'Liz: Yeah.', 'Peter: Yeah?', 'Liz: Yeah.', '(tense music playing)', '(music softens)', 'Evangeline: (shouts) Qavvik!', 'Qavvik: Shh!', '(wind blowing)', 'Qavvik: Fucker. What can I do for you?', 'Evangeline: (sighs) Do you know Oliver Tagaq? He worked at Tsalal for a bit. Now he might be a hunter, somewhere out on the ice.', 'Qavvik: Tagaq? No.', 'Evangeline: Well, thing is, I know you know someone who knows someone. Homebrew comes with a network. You’ll ask around?', 'Qavvik: Mm-hmm… for a price.', 'Evangeline: You want me to pay you?', 'Qavvik: It’s called quid pro quo. You tell me something. I tell you something.', 'Evangeline: (scoffs) Don’t get fuckin’ cute on me.', 'Qavvik: I’m not kidding. You tell me something about yourself… and I’ll get you that intel.', 'Evangeline: Fuck you, Qavvik.', '(door slams)', 'Qavvik: Always lovely to see you, Evangeline. (whistling)', 'Evangeline: (sighing)', '(door opens, closes)', 'Evangeline: Da fuck you wanna know?', 'Qavvik: Your mom. Tell me about her.', 'Evangeline: Ask Julia.', 'Qavvik: Mm-mm, I’m asking you. She was local, wasn’t she?', 'Evangeline: Yeah, from a gold mining camp that’s gone. She left when she was 15. Met my dad in Boston. Boom. Now get me Tagaq.', 'Qavvik: That’s that accent, Boston girl. (chuckles) But you didn’t stay.', 'Evangeline: No. Dad was bad. He drank. He hit her. Us too. So Mom took us and ran. And then we came back up North.', 'Qavvik: Alaska girls always come back.', 'Evangeline: She was… not okay. She–', 'Qavvik: Like Jules?', 'Evangeline: Yeah. Voices. Episodes.', '(light, tense music playing)', 'Evangeline: Then one day she ran out and never came back.', 'Qavvik: Was she–', 'Evangeline: She was killed. Fucker was never found.', 'Qavvik: (sighs) Oh. Fuck. Sorry, Eve.', '♪', 'Evangeline: She never told me my Inupiaq name, you know? I wish– Nothing. Anyways, there’s your intel. Now get me mine.', '(“Limbo” by Lissom, Julien Marchal, & Lowswimmer playing)', '(indistinct chatter)', '♪ Call it your bad ♪', '♪ You cut me out instead ♪', 'Hunter: They’re sick, they’re starving, they’re dying. The fish, the whales, the seals, the caribou. What are we gonna eat? We can’t pay for the food in the stores. Now, even our water’s rotten. They’re lying. They’re fucking lying when they say they’re not poisoning us. We want the truth.', '(crowd cheering)', 'Hunter: We want truth! We want clean water! We want clear skies! We want our animals healthy!', '(cheering)', 'Hunter: We want the mine to close.', '(chants) Close the mine!', 'Hunter: This town was here before them.', 'We were here before!', 'Crowd (chanting): We were here before! We were here before! We were here before! We were here before! We were here before!', 'Oh, you’re the Chief of Police’s daughter, aren’t you?', 'Leah: No, she’s just my stepmom, but I don’t support–', 'It’s fine. Anybody who cares is welcome here.', '(chanting continues)', 'Crowd: We were here before! We were here before!', 'Hunter: Hey, hey, hey! Aviaq and Joe Carter’s baby boy passed this morning.', '(crowd gasps, murmurs)', 'Hunter: Another stillborn. Can we have a minute of silence? Thank you.', '(heavy breathing)', '(breathy throat singing)', '(singing softens)', '(singing fades out)', '(white noise static buzzing)', '(white noise stops)', 'Liz: (sighs)', '(“Twist and Shout” by the Beatles, distorted, echoing, faintly playing)', '(door opens, closes)', 'Liz: Lee?', '(footsteps running)', '(door slams)', 'Liz: I thought you were gonna help me–', 'Leah: Hey! I’m changing.', 'Liz: Have you been hangin’ out with those people that are vandalizing the mine?', 'Leah: No.', 'Liz: Are you insane?! Do you know what happens to those people?!', 'Leah: I’m not insane. I just fucking care about this place, alright?', 'Liz: I don’t know what you want from me.', 'Leah: I want you to fucking care.', 'Liz: I do care.', 'Leah: Bullshit.', 'Liz: I told you to wipe that shit off your face. Come on.', 'Leah: Did you know Aviaq Carter’s baby was stillborn today? Sure as hell didn’t care for them, did you?', 'Liz: That shit’s comin’ off. Come on.', 'Leah: Stop! Let go! Get off of me.', 'Liz: Wipe it off.', 'Leah: No!', 'Liz: Now. Now!', '(light, tense music playing)', '(singer humming)', '(white noise static)', '♪', '(eerie, faint vocalizing of “Twist and Shout”)', '♪ Twist and shout… ♪', '♪ Shake it up baby, now ♪', '♪ Twist and shout… ♪', '(child giggles)', 'Evangeline: Hey!', '(loud whack)', '(gasps)', '♪', 'Voice (whispers): Listen…', 'Child (whispers): Tell my mommy.', '(indistinct whispering)', '(heart beats)', 'Evangeline: (gasps) (groans) Oh, fuck. (grunts)', '(wind blowing)', '(phone ringing)', '(phone buzzing)', 'Evangeline: Hello?', 'Kenny (over phone): Yes, ma’am, Ms. Navarro? It’s Kenny Hogan. I’m-I’m coverin’ for Qavvik.', 'Evangeline: Uh, yeah, he got no signal. Do you want me to–', 'Kenny: No, ma’am. This is about your sister, Julia.', 'Evangeline: Is she okay? What happened?', 'Kenny: It’s okay. She’s, she’s fine.', 'Evangeline: What did she do?', 'Kenny: She started screamin’ that someone was comin’ and she was prayin’, she just started prayin’. She was– Hey-Look, I don’t know, it-it was bad. I’m sorry, I just, uh, I just thought you’d like to know.', 'Evangeline: Where is she?', 'Kenny: I-I don’t know, she just ran out.', '(light music playing)', '(singer vocalizing)', '♪', '(footsteps)', 'Evangeline: Aren’t you cold, babygirl?', 'Julia: How’d you know where to find me?', 'Evangeline: You weren’t home. And I know you.', 'Julia: (breathing heavily) You see that? That’s the water. The sea. (sighs) I think stuff. (deep breath) Bad stuff.', 'Evangeline: I know, I know, I know. (sighs) I know, baby.', '(uneasy music playing)', '(door creaks)', '(clanking, shattering)', '(Peter gasps)', 'Darwin: Mama!', '(lullaby music playing)', 'Peter: Hey, I’m sorry. Come to bed?', 'Kayla: I have an exam at seven. Might as well stay up.', 'Peter: Am I in trouble? Come on, Kayla, it’s just one case and it’ll be over, and–', 'Kayla: And Danvers will still be calling day and night, Pete. And you’ll run every time. Every time.', 'Peter: You jealous of Danvers?', 'Kayla: Don’t be ridiculous.', 'Peter: Exactly. You married a cop.', 'Kayla: No, I didn’t. You were not a cop. You were just a sweet idiot who made me laugh–', 'Peter: Well, what if I don’t wanna be a sweet idiot? I don’t tell you you can’t be a doctor.', 'Kayla: I’m not a doctor. I’m in nursing school, with a kid, married to a cop.', '(phone ringing, buzzing)', 'Kayla: (light scoff)', '(“I Follow Rivers” by Marika Hackman playing)', '(phone dings)', '♪', '♪ I follow, I follow you ♪', '♪ Dark room, honey ♪', '♪ I follow you ♪', '(TV playing)', '♪', '♪ You’re my river runnin’ high ♪', '♪ Run deep, run wild ♪', '♪ I follow, I follow you ♪', '♪ Deep sea, baby, I follow you ♪', '♪ I follow, I follow you ♪', '♪ Dark room, honey, I follow you ♪', '(song ends)', 'DECEMBER 23. 6TH DAY OF NIGHT', '(throat singing)', '(singing continues)', '(melancholic singing, humming)', '(door opens)', '(singing continues)', '(singing continues)', '(light music playing)', '(throat singing quickens)', '(song and music intensifies)', '(light music playing)', '(exhales)', '(unsettling music playing)', '(voices whispering)', 'Vince: Jesus, Pete.', 'Peter: Yeah, it’s weird, right? Hey, you think that guy scratched his own eyes out?', 'Vince: How many hours have you been here staring at this shit?', 'Liz: Prior, crack that phone?', 'Peter: Morning, Chief. Uh, this is my cousin, Vince, the vet I was tellin’ you about.', 'Liz: Yeah?', 'Peter: Vince, tell her.', 'Liz: Tell me what?', 'Vince: Uh, (clears throat) yeah. I-I think they died before they froze.', 'Liz: What?', 'Vince: I-I mean, they didn’t freeze to death. I’ve seen plenty of frozen animals, and cold makes their heart rate drop, their breath grows shallow. They basically fall asleep. All told, a pretty peaceful death. Those guys, this… this is not how you die in the cold. It’s just not.', 'Liz: What killed ’em?', 'Vince: It’s hard to tell without a chance to properly postmortem them, but looks like cardiac arrest if I had to put money on it.', 'Liz: Oh, well, how can you be sure?', 'Vince: I can’t. I’m just a vet, ma’am. But I’ve seen caribous die of plain fright. Running, terrified. Uh, these scientists, they, they, uh, they look the same.', 'Liz: So, uh, (sniffles) Vince… you think you could do just, like, a tiny bit of postmortem?', 'Peter: Chief.', 'Liz: Just-I’m just kidding.', 'Vince: Oh.', 'That would be super illegal.', 'Peter: Sorry, Vince. I’ll buy you a beer.', 'Vince: Yeah.', 'Peter: Thank you, man.', 'Liz: Well… so I guess we wait and see what information Anchorage is willing to share with us.', 'Peter: Yeah.', 'Liz: Annie’s phone. What about it?', 'Peter: Yeah, uh, we’re workin’ on it. We should get it back this morning. It shouldn’t be a problem–', 'Evangeline: Oliver Tagaq. I found him.', 'Peter: How?', 'Evangeline: It’s called “Mukluk Telegraph.” Not for white boys.', 'Peter: No, no. I’m sorry. The man doesn’t exist. Alright? There’s no birth certificates, there’s no school records, no taxes, nothing for him.', 'Liz: Oh, so, so, nothing from Tsalal’s records.', 'Peter: Yeah, nothin’ on the Tsalal records. There’s nothin’.', 'Evangeline: Well… he’s living in a nomad camp on the North Shore.', 'Liz: Alright.', 'Evangeline: Not everything is on a computer, freshman.', 'Peter: (quietly) Fuck.', '(slow drum music playing)', '(singers vocalizing)', '(dog whimpers)', '(engine stops)', '♪', 'Liz: Hello, sir. We’re looking for a Oliver Tagaq.', 'And that would be why?', 'Liz: Well, we believe that he may have some information, uh, regarding Tsalal station.', 'Evangeline: Sir… Mr. Tagaq is not a suspect. We just need to chat with him.', '(crying baby in distance)', 'Not sure he’s around.', 'Evangeline: Mr. Tagaq? Alaska police.', '(Liz sighs)', 'Liz: Hear that?', 'Evangeline: Yeah, the genny. Yeah, he’s around, alright.', 'Liz: Oh, yeah? Oh, okay. That’s good.', 'Evangeline: (quietly) What the fuck are you doing?', 'Oliver Tsalal: You’re standing on traditional Inupiaq territory.', 'Liz: Uh, well–', 'Oliver: Unless you have an order, if you take one step in, I’ll blow your brains out.', 'Liz: Uh… I hear ya. So, if I go in the state records… this property is your land? It’s under your name, Mr. Tagaq?', 'Oliver: You wanna come and see the deed, lady? You. What’s your name?', 'Evangeline: I’m A.T. Evangeline Navarro.', 'Oliver: No. (speaks Inupiaq) Who are you?', 'Evangeline: I just told you.', 'Oliver: Oh, you forgot, didn’t you?', 'Evangeline: We’re here to talk about Annie Kowtok.', 'Oliver: Annie? Look, I don’t care what you came here to talk about. If you don’t have an arrest order, you need to leave.', 'Liz: What, you want us to get one? We can get one.', 'Oliver: An arrest for what?', 'Liz: How about the deaths of the Tsalal scientists?', '(light, tense music playing)', 'Evangeline: Your ex-colleagues. They’re dead.', 'Oliver: (heavy breathing)', 'Evangeline: They all died a week ago.', 'Oliver: How?', 'Evangeline: (sighs) They died on the ice. We still don’t know what happened.', 'Oliver: Lund is dead?', 'Evangeline: No. No, he’s in the hospital. He’s not doing well. Listen… you can talk to us if there’s anything you know.', 'Oliver: Get the hell out of my house!', 'Evangeline: No, we just wanna–', '(pumps shotgun)', 'Oliver: Go, now!', 'Evangeline: Alright.', 'Oliver: (yelling in Inupiaq) Get outta here. Out!', 'Evangeline: We’re gone, we’re gone.', 'Oliver: Go, now! Don’t ever come back!', '(dog barking)', 'Liz: (sighs) What was all that shit about your name?', 'Evangeline: You wouldn’t understand.', 'Lulu (over radio): Chief.', 'Liz: Danvers.', 'Lulu: Chief, we got a call, from the hospital.', 'Liz: Lund?', 'Lulu: Yeah.', '(siren wailing)', 'Nurse 1: The gangrene spread everywhere. He needed multiple amputations. He lost his eyesight. We kept him heavily sedated, but a few hours ago, he started waking up.', 'Liz: Is he communicating?', 'Nurse 1: He comes in and out. He’s agitated.', '(person wailing)', 'Nurse 1: Be prepared. He’s hard to look at.', '(Anders Lund wailing)', 'Nurse 1: Please be quick.', '(Anders groaning, wailing)', 'Liz: Dr. Lund… my name is Elizabeth Danvers.', '(wailing)', 'Liz: I’m with Alaska police. What happened that night out on the ice?', '(Anders wails)', 'Liz: Anders… I’m here. Okay? Anders. Anders.', 'Anders: (struggles) W-We woke her.', 'Voice (whispers): She’s awake.', 'Anders: And now she’s out. She’s out there in the ice.', 'Liz: Who’s out there?', 'Anders: She came for us… in the dark.', '(Anders wailing)', 'Nurse 1: I’m sedating him.', 'Liz: No. Who-Who’s out there?', '(distant arguing)', 'Liz: Who was it? Who is she? Who-Who came for you? Anders, who?', 'Nurse 2: There’s been an accident on the police search. Chief Danvers, we need help!', '(distant yelling)', 'Nurse 1: Officers?', 'Liz: Anders… talk to me.', 'Nurse 1: Officers?!', 'Speaker: Fucking hunters are fighting!', 'Liz: Stay with him. Fuckin’ hillbillies.', 'Announcement (over PA): Security to the waiting area. We need all security to proceed to the waiting area.', '(distant fighting)', '(fighting continues)', '(glass shatters)', 'Hunter: Who are you callin’ a redneck?', '(indistinct shouting)', 'Nurse 3: What are you doing?!', 'Liz: Alright, cuffs, cuffs. Let me see your hands!', '(eerie breathing)', '(ominous music playing)', 'Anders: (gurgly voice) Hello, Evangeline. Your mother says hello. She’s waiting for you.', '(light, eerie music playing)', '(Anders convulsing)', '(alarm beeping)', 'Defib. Get the crash cart. Someone get his AVM. Stay with us.', 'Let’s get him intubated.', '(alarm beeping)', '(tense music playing)', '(flatlining beep)', '(indistinct chatter)', '(hospital phone ringing)', 'Liz: Pete? What’s up?', 'Peter: Annie’s phone. I cracked it.', 'Peter: (out of breath, whispers) I found it. It’s here. I found, I found it.', '(loud noise in video)', '(Annie yelps)', '(Annie breathing heavily)', 'Annie: My name is Annie Kowtok. If anything happens to me, please–', '(static)', '(Annie screaming)', '(screaming continues on video)', '♪', '(screaming fades out)', '(“Inside” by Chris Avantgarde & Red Rosamond playing)', '♪ If I was you, I’d run ♪', '♪ If I was you, I’d hide ♪', '♪ If I was you, I’d be afraid ♪', '♪ Afraid of what’s inside ♪', '♪ If I was you, I’d run ♪', '♪ If I was you, I’d hide ♪', '♪ If I was you, I’d be afraid ♪', '♪ Afraid of what’s inside ♪', '♪ Time to say goodbye ♪', '♪', 'Your email address will not be published. Required fields are marked *', 'Name*', 'E-mail*', 'Website', ' \\n\\n', 'Spade searches for answers regarding the mysterious young boy that everyone seems to be looking for. Samir takes him into hiding, but no one knows what to make of his incessant writing. Spade gets a call from the elusive Philippe', 'In an interview conducted by Jon Stewart, George Carlin talks about various aspects of his life and career, reflecting upon his childhood, formative influences, and his perspectives on comedy and creativity', 'The 100th bombs German U-boat pens in Norway. With the help of Lt Crosby’s navigating, a damaged B-17 struggles to get back to Britain', 'Led by Majors Cleven and Egan, the 100th Bomb Group arrives in England and joins the 8th Air Force’s campaign against Nazi Germany', '© 2024 Scraps from the Loft. All rights reserved.']\n",
            "https://scrapsfromtheloft.com/tv-series/masters-of-the-air-part-one-transcript/ \n",
            "\n",
            "['“Masters of the Air,” a 2024 American war drama miniseries, heralds a new chapter in streaming television. Crafted by the creative duo John Shiban and John Orloff, and further developed by Orloff for Apple TV+, this series marks a significant addition to the platform’s offerings. The narrative is rooted in Donald L. Miller’s 2007 book, “Masters of the Air: America’s Bomber Boys Who Fought the Air War Against Nazi Germany.” It vividly recounts the harrowing experiences of the 100th Bomb Group, a B-17 Flying Fortress squadron in the Eighth Air Force during World War II. Known infamously as the “Bloody Hundredth,” this group was distinguished by the severe casualties it suffered in the thick of battle.', '“Masters of the Air” stands as a companion piece to the esteemed series “Band of Brothers” (2001) and “The Pacific” (2010), completing a trilogy of sorts in war-time storytelling. Notably, it is the first series to be produced by Apple Studios, in collaboration with Playtone and Amblin Television, showcasing a significant investment in quality historical drama.', 'The production, which commenced in England in 2021, faced numerous setbacks due to the COVID-19 pandemic. Despite these challenges, “Masters of the Air” successfully premiered on January 26, 2024, demonstrating resilience and commitment to bringing a pivotal era of history to the screen.', '* * *', 'The premiere episode of “Masters of the Air” introduces key members of the 100th Bomb Group during World War II, such as Gale “Buck” Cleven and John “Bucky” Egan. The episode, blending fact with fiction, confirms some historical details, like the B-17 Flying Fortress named “Alice from Dallas,” but leaves others, such as Bucky’s narwhal tusk incident, ambiguous. Key plotlines involve challenging landings, airsickness leading to navigational errors, and the introduction of a dog named Meatball. The episode culminates in the 100th Bomb Group’s first mission, a disastrous affair resulting in significant losses, mirroring historical events. Personal struggles are also depicted, including a soldier’s hands freezing to his gun and a colonel’s unexplained illness, likely drawn from personal anecdotes rather than public records.', '* * *', '[captains sigh]', '[captain 1] Two more.', '[bartender] Coming right up.', 'Bucky’s got all the luck.', 'Yeah, she’s pretty.', 'No, not that. Lucky bastard’s shipping out tomorrow.', 'He’s gonna be a stone’s throw away from the Krauts, while the rest of us will still be flying practice missions over Nebraska.', 'Ah. Don’t worry. We’ll be over there dropping bombs soon enough.', 'Yeah.', 'Bucky, next round’s on us.', 'He’s never done that before. [chuckles]', 'So you’re Bucky, and he’s Buck?', 'Uh, it’s a long story.', 'They make a nice pair, don’t they? Oh, I should have introduced them earlier.', 'He’s leaving tomorrow.', 'Everyone needs someone to write to back home.', 'I don’t know if John Egan’s the pen pal type.', 'Hmm.', 'Well, maybe if he met a girl worth writing to, he would be.', 'Ah. Well, a girl worth writing to is hard to find.', 'Not if you know where to look.', 'Ah. I see what you mean.', 'Mm-hmm.', 'Hmm.', 'So, you’ll write me?', 'Well, I already have.', 'You wrote me a letter?', 'Yeah.', 'What’s it say?', 'Well, you’ll have to wait and find out.', '[chuckles] Well, when will that be?', 'Mmm. When I ship out. I’d say two or three weeks.', 'I’m gonna miss you every second.', '[captain 2] All right, all right. Gentlemen, a toast.', 'Buck, Marge… hey, you lovebirds… we’re toasting Bucky over here.', '[patron 1] Hear, hear, Major Egan.', 'To our new Air Exec, Bucky.', '[patron 1] Hey, hey.', '[patron 2] All right, Major.', '[captain 1] Of all the drunks in the 100th.', 'Well, someone’s got to make a nest for the rest of you dodos.', 'Cheers, Major.', '[patron 1] To the 100th.', '[patron 3] Yeah, to the 100th.', '[patron 4] Best of luck, sir.', '[sighs] Thanks.', '[captain 2] Save some Krauts for us.', 'We’re going to Slooter’s.', 'You guys coming?', 'Nah, I-I gotta fly early.', '[captain 2] Buck?', 'I don’t think so, boys.', 'See you tomorrow then. Bye, Marge.', 'Bucky, see you in England.', 'And remember, I want extra blankets and a cot with a view.', '[groans] Consider it done.', 'He won’t tell me. What’s with the nicknames?', '[chuckles]', '[friend] Spill, Marge.', 'Yeah?', 'Go ahead. Go ahead.', 'Okay.', '[Bucky] Told you, it’s a long story.', 'Well, they met in basic training before the war started.', 'John, uh… John was always Bucky since he was a kid.', 'Right?', 'That’s right, yeah.', 'And Gale… Well, Gale’s always been Gale.', 'Until…', 'First day of basic training, this fella walks up to me', 'and says that I remind him of a guy back home in, uh, Wisconsin,', 'goes by the name of Buck.', 'I tell him my name’s Gale, Gale Cleven.', '[both chuckle]', 'And, uh…', 'But Bucky here, he’s not deterred.', 'No, sir. It’s, uh… It’s just “Buck this, Buck that.”', '“Buck, can you help me tie my shoes?” “Buck, help me fly this plane.”', '[chuckles] Before I know it,', 'the whole damn Eighth Air Force is calling me Buck. So…', 'What kind of a name is Gale anyway?', 'Oh. [gasps]', '[Bucky] You know what?', 'You… You know what? You should actually be thanking me. I did you a favor.', 'For giving me the same name as you?', 'It’s not exactly the same name,', 'and it’s not my fault you look exactly like Buck', 'from Manitowoc, Wisconsin.', 'From Manitowoc.', 'What kind of man does that to his best friend?', 'Aw, it’s so sweet. [chuckles]', 'Mmm. We need music.', 'Okay. Don’t go away, Gale…', 'Mmm. Buck. You’re gonna dance with me before this night is through.', 'Oh, don’t make me dance, Marge.', '[chuckles, kisses]', '[Bucky] Pick a good one.', 'Mmm.', 'Artie Shaw, Benny Goodman.', '[Marge laughs]', 'Hey. You know, I am amazed that we’re friends.', 'You don’t like to dance with a beautiful woman.', 'You don’t drink. You don’t gamble.', 'You don’t even like sports.', 'Well, we are one of life’s great mysteries.', '[scoffs]', '[Marge chuckling]', '[“Begin the Beguine” playing]', '[chuckling] Oh, I love that. Yes.', '[friend] Yeah?', '[Marge chuckles]', '[sighs]', 'Hmm. So this is it.', '[sighs] This is it.', 'I’ll see you in a few weeks.', 'If I don’t die first.', 'Hate to break it to you, Bucky, but you are the 100th’s Air Executive now.', 'You’re not going over there to fly missions.', 'Look, I, uh… I had a conversation with the CO over at the 389th,', 'and I’m flying with those boys until you guys show up.', 'I’ll be an observation pilot.', 'You son of a bitch.', 'Mm-hmm, yeah.', 'Well, someone’s gotta taste a little combat,', 'tell you what it’s really like up there.', 'Well, don’t you die on me before I get over there.', 'Don’t count on it.', '[Bucky] Keep your nose down! Let’s get this fire out!', '[pilot] Come on, faster! You have to help us!', 'That’s it! The fire is out!', 'Pull! Pull up! Up!', '[pilot shouting]', 'Harder!', '[grunting, shouting]', '[pilot] Okay, leveling out! Almost there!', '[Bucky grunts] Fighters, 12:00! Dead ahead!', '[pilot] Oh, shit!', 'We’ve lost the fourth flap.', 'Pilot to navigator.', 'We gotta head back. We need a new heading!', 'Fuck!', 'This is Duval. [grunting]', 'And I’ve been hit.', '[Bucky] I’m coming down to you, Duval.', 'Point it due west.', 'Roger! We’re losing oil pressure on engine two!', '[Bucky] Keep it steady and I’ll get a new heading.', '[breathing shakily]', 'Breathe, man! Just breathe! Hang on!', '[Duval grunting]', 'Duval! Where are you hit?', '[shouts] Ah, fuck.', 'Stay with me, Duval!', '[grunting]', 'I’m right here.', 'I’m not gonna make it, Bucky. [shouts]', 'Stop it, Duval. You’re gonna make it.', '[grunts]', 'Put your hand on the wound.', '[mumbles]', 'Here. That’s good.', '[Duval] Okay. Okay.', 'All right? Stay with me, goddamn it!', '[breathing heavily, shouts]', 'You hear me?', 'Look at me! Open your eyes! Open your eyes!', 'Breathe, breathe, breathe!', '[breathing heavily, grunts]', '[pilot] Fighters, 12:00!', '[sergeant] Got one!', '[pilot] Egan, I need that heading!', '[Bucky] New heading: Turn left at 248.', 'Roger!', 'Come on. Stay with me.', '[Duval grunts]', '[Bucky] We’re headed home.', 'Yeah. Yeah.', 'Just keep breathing!', '[panting]', '[choking, gasping]', 'That was a hell of an observation mission, Major.', 'Are they all like that?', 'You wondering what to tell your guys?', 'Don’t say anything. They’ll figure it out.', 'We all do.', '[airplanes passing]', '[crew member] The 100th bomb group was sent to England in the spring of 1943', 'to join the US Army’s Eighth Air Force in its battle against Nazi Germany.', '[lieutenant] I say we call this fort Alice From Dallas.', 'Alice From Dallas?', 'It’s got a ring to it.', 'Alice From Dallas. Alice, our palace.', 'Show Major Cleven.', 'Lorch, show the major.', 'I want her back.', 'Hell of a dame. She’ll give this fort a little extra muscle.', 'Oh. [chuckles] I see why you’d wanna name this fort after her.', 'Aw, she’s special.', 'She’s formidable.', 'Amison, you sure you got us to the right fjord?', 'Roger. 100%.', '[lieutenant] Nutting, how we looking back there?', 'Eight in a line, sir.', '[lieutenant] Roger.', '[crew member] Most of us had never traveled far from home,', 'let alone flown in an airplane.', 'We came from every corner of the country, with a common purpose:', 'to bring the war to Hitler’s doorstep.', '[Buck] Pilot to crew. We’ll be touching down in Greenland shortly', 'to get some chow and some rest.', 'Blondie Tower, Army 233. A flight of B-17s over Bluie West One.', 'Landing instructions, please.', '[landing officer] Army 233, flight Blondie Tower.', 'Continue for runway six. Clear to land.', 'Sky CAVU. Winds 330 at 40, gusting to 50.', 'Altimeter 2-niner-niner-0.', 'It’s a little breezy.', 'Breezy? In ‘Bama, we call that a hurricane.', 'Roger, Blondie Tower. Continuing to runway six. Sky CAVU.', 'Winds of 330 to 40, gusting to 50.', '[landing officer] Hell of a crosswind. Gusts increasing, fellas. Be careful.', 'You might want to circle around, Major. Welcome to Greenland.', 'Landing gear down. Get ready on flaps.', '[lieutenant] Landing gear coming down.', 'It’s gonna get bumpy. Hang on, guys.', '[Buck] Pilot to crew. Prepare for landing.', 'Left gear down.', '[grunts]', 'Right’s down.', 'Final-approach checks. Flaps at quarter?', 'Yeah. Flaps at quarter.', '[grunting]', 'Flaps at half.', '[lieutenant] Flaps are half.', '[crew members grunting]', 'Flaps up.', 'Got ’em.', '[Buck] You gotta pull up, Veal. Come back around.', '[crew member] Our unit was made up of four squadrons.', 'Major Gale Cleven was the commander of the 350th.', 'He and Major Egan were the unquestioned leaders', 'of our entire group.', 'Ev Blakely was a pilot from Seattle.', 'Look who it is.', 'Blakely.', '[crew member] And big-hearted Benny DeMarco, from Philly.', 'Major.', 'DeMarco.', 'Hell of a landing.', 'Seen worse.', 'Is that the fight?', '[Amison] Yeah.', 'Claytor, you got money on this, right?', 'I do.', 'It’s bad signal though, man.', 'Yeah, you don’t say.', 'Well, turn it up.', '[crew member] Bombardiers James Douglass and Howard Hamilton were from the Midwest.', 'Hambone.', 'Major.', 'Yep.', '[Claytor] Calm down. I got it.', '[crew member] And Charles Cruikshank, also known as Crank, was from New England.', 'Hiya, Crank. Heard you boys had a rough landing.', '[crew member] My best friend Joe “Bubbles” Payne and I were navigators,', 'so location was important to us.', 'Uh, Major? Lieutenant Crosby.', 'Uh, where are you from? Yeah, we gotta put a pin in it.', 'Bubbles and I… we’re, yeah, you know, keeping the tradition alive.', 'Got guys from all parts.', 'Yeah. [chuckles]', 'Ah.', 'Casper, Wyoming.', 'Cowboy State, huh? [chuckles]', '[Buck] Yep.', 'Well, it looks like you’re the first, Major.', 'How about that.', '[officers cheering, chattering]', 'Major. What can I get for ya?', 'A buddy of mine came through here some weeks ago.', 'Group Air Exec. Uh, there was an incident.', 'You friends with Egan? Major John Egan? Bucky?', 'I am. Yeah.', 'Whatever he said, I didn’t do anything wrong.', 'No, he… he just wanted me to give you this.', 'Said it’s a replacement.', 'A replacement?', 'Yeah.', '[scoffs, sighs]', '[scoffs]', 'And how exactly is this supposed to be a replacement?', 'Sergeant, I don’t know what went on,', 'but he told me that that should make up for it.', 'You see that?', 'Broken narwhal tusk? He pulled it down off the wall, pretended to be a unicorn.', 'Ripped two of my couches, broke almost every glass in the bar.', 'I see.', 'You know, usually I can spot a troublemaker,', 'but your friend seemed fine.', 'Till he started to sing.', 'Yeah, that sounds about right.', '♪ I asked her for credit She answered me nay ♪', '♪ Such a customer as you I can have any day ♪', '♪ And it’s no, nay, never ♪', 'You don’t have to do this.', 'It’s a stupid bet.', '♪ No, nay, never, no more ♪', 'I have to now.', '♪ Will I play… ♪', '[patron 1] Who’s it gonna be?', 'All right, all right.', '[patron 1] Who’s it gonna be?', '[shushing]', 'Now, I’ve played every one of ya… [clears throat]', '…and you Irish are about as good at hitting that bull’s-eye', 'as you are at hammering your nails.', '[patrons clamoring, laughing]', 'I don’t know why you’re laughing. You English ain’t much better.', 'Jack!', 'But Tommy here, Tommy here is the best damn dart slinger', 'in the whole of East Anglia!', 'You’ll lose an eye.', 'No, I won’t. I trust Tommy.', '[sighs]', 'Now, he wins this, I get both those bikes.', 'Yeah. You’re on, Yank.', '[Bucky] Both of ’em.', '[patron 2] All right, both of them.', 'And I get a kiss.', 'All right, Tommy. Not my eyes. Not my eyes, Tommy. All right?', '[breathing deeply]', '[patron 3] Come on, Tommy.', '[breathing deeply] Whoo! All right, Tommy. Whenever you’re ready.', '[patrons cheering, laughing]', '[shouting]', 'I just lost two bloody bikes, Tommy.', 'What’s the matter with you?', 'Tommy! [laughing]', '♪ Nothing but blue skies Do I see ♪', '♪ Not in England though Got shitty weather and blue skies ♪', '♪ Smiling at me ♪', 'Evening, Major. Is that bike for sale?', 'Not for all the money in the world.', '[Crosby] It was my job to get Captain Brady and the rest of our crew', 'from Greenland to our base at Thorpe Abbotts in England.', 'But somehow, we were separated from the rest of our group', 'in the clouds over the Atlantic.', 'Tough enough with zero visibility,', 'but I had another problem: uncontrollable air sickness.', '[vomiting]', '[Brady] We have an electrical problem.', 'We need a heading.', 'Crosby, you there?', 'Sorry. Could you repeat that?', 'We got a gremlin in the electrical.', 'Give us a holding pattern while we figure this out, Croz.', 'Roger. Stand by.', 'Turn right to 165. Over.', '[Brady] Roger. Turning right to 165.', 'Shutting off electrical and recycling it. Let’s fix this.', 'It’s gotta be one of the control circuits.', 'I’ll pull the fuses. That’ll isolate the problem.', 'Right. Go.', '[Hambone] How are you still vomiting?', 'Your stomach’s gotta be as empty as our fuel tank.', 'Yeah. Yeah, yeah.', '[laughs]', '[gasps]', '[Hambone] Ugh!', 'Oh, gosh darn it, Croz.', 'I’m sorry.', 'It’s all over me. Get me a rag.', 'I’m sorry, I’m sorry, I’m sorry.', 'Come on.', 'It stinks.', '[Brady] Come on. You got it?', 'No gremlin as far as I can see. Maybe a problem with the wheel motor.', '[Brady] Restarting batteries and generators.', '[flips switch]', 'Back on.', 'Warning lights off.', 'Is that the coast of England? Crosby, that’s England, right?', 'Uh.', 'No, we… we shouldn’t be over water, Lieutenant.', 'Sir, what’s your heading?', '165, like you told me.', 'Oh, good Lord in Heaven.', 'Son of a bitch. That’s France!', '[explosions]', 'Pilot to crew, flak ahead. Hold on. Shit!', 'Goddamn it, Croz.', '[exhales sharply]', '[belches]', '[people chattering]', '[horn honks]', '[Bucky] Morris. Thanks for the bikes.', 'I’ll get you next time.', '[laughs]', 'Come on. [clicks tongue] There you go, lovely.', 'Keep that way. Ooh, oh. Go on, girl.', 'Here they come.', '[chattering]', '[children laughing]', 'Come on, boy.', 'DeMarco!', 'Hey, Major.', '[Bucky] Where did you get that dog, Benny?', 'I won him at craps.', 'You took this baby above 10,000 feet.', 'He’s got a mask. It cost me three bucks. But boy, he loves to fly.', 'He wouldn’t stop howling.', 'That’s because he’s part wolf.', '[chuckles]', 'That wolf’s part dog.', 'Got a name?', 'Meatball.', 'Welcome to the 100th, Meatball.', 'Come on, Meatball.', 'You miss me?', 'Like a stone in my shoe.', '[laughs]', 'How you been getting on?', 'Uh, half our equipment’s yet to show up.', 'Had to borrow masks and parachutes from the Brits.', 'Air Exec ought to take care of that.', 'My opinion: They ought to can the guy.', 'Also, get used to the mud.', 'Hey, listen, your, uh… your radio guy pick up any chatter from the 418th?', 'We’re missing Brady.', 'Negative.', 'Oh, I got you a bike.', 'I need a bike?', 'Or it’s a 20-minute walk from the quarters to the mess.', 'And these things are sold out for weeks.', 'I figure you’ll buzz past a bunch of guys crawling through the rain', 'on the way to dinner.', 'You’ll come around and say, “Thank you, Bucky.”', 'Don’t count on it.', 'Well, there’s Brady.', 'Okay, let’s check the landing gear. Bring it down.', 'Roger.', 'Left coming down.', 'Tail down.', 'Negative on right.', 'Fuck.', 'Right wheel won’t come down.', 'Blum, get on the manual crank.', '[Blum] I’m on it.', 'Hafer, you help him out.', 'Roger, wilco.', 'Take that.', 'Where’s the crank?', 'Come on.', '[grunts]', '[grunting]', '[Blum grunting] It won’t budge.', 'Come on.', '[Blum] I’m trying.', 'Come on. Get out of the way. Come on. Give it here.', 'You got it?', 'Yeah. [grunting]', 'The landing gear motor must be fried or the jackscrew’s jammed up.', 'You sure?', '[Blum] Yes, sir.', '[groans]', 'It’s completely frozen.', 'It’s not coming down.', 'Bring the left landing gear up.', 'You sure?', 'Yeah, we got a better shot at walking away from a belly landing', 'than we do on one wheel.', 'Clear-up Tower, this is Army 071. Landing gear not responding.', 'Requesting landing instructions. Over.', '[tower operator] Roger, Army 071, clear to land.', 'Rescue crew at the ready. Over.', '[copilot] Roger, Clear-up.', '[Brady] Pilot to crew, prepare for crash landing.', '[Hafer] You hear that? Come on. Let’s go. Let’s go.', '[announcer] 247. Emergency personnel…', '[soldiers clamoring, shouting]', '[grunting]', '[grunts]', '[breathes heavily]', 'Okay. Get out! Everybody out.', '[Blum] Let’s go, go, go!', 'Get the fuck out of here!', 'Move! Move!', 'Go, go, go, go.', '[siren blaring]', 'Go, go! Come on! Get a move on. Run now or you’re dead. Go, go!', '[sirens continue]', '[emergency worker] All clear.', '[panting] Oh, fuck.', 'Easy deal.', 'Jack it up and hook it up.', 'I’m on it. Let’s go.', 'You’re a navigator, Crosby.', 'You should be able to, I don’t know, find England.', 'Everyone okay?', 'Yes, sir.', 'Sir.', 'Brady.', 'Step into my office.', 'How’d you lose the rest of the squadron?', 'We, uh… We got separated in clouds.', 'And, um, then we had some kind of electrical failure,', 'so we spent an hour just trying to get the wheel down.', 'Well, you know what they say.', 'There are two kinds of pilots,', 'those who have had a wheels-up landing and those who will.', 'Major, it looks worse than it is.', '[Bucky] All right. Sort it out.', '[crew member 2] On it, Major.', 'You didn’t have to cover for me, okay.', 'It was my responsibility. I should’ve…', 'I wasn’t covering for you.', 'We had a mechanical failure.', 'Get a grip on that airsickness.', 'Or get off my plane.', '[softly] Yes, sir.', 'Croz, you take the scenic route?', 'So, you wanna tell me about this unicorn story?', 'Well, the unicorn is my favorite extinct animal.', 'France?', 'How the hell did you manage that?', 'How else, Bubbles? [stammers]', 'Puking my goddamn guts out.', 'I thought that went away', 'once you got going.', '[Crosby] No, yeah, it usually does.', 'But this time with the turbulence, it kinda… [stammers] …I don’t know.', '[sighs] This time it didn’t.', '[grunting]', 'I gotta be the worst navigator in the entire Army Air Force. [grunts]', 'Oh, Crosby, there’s gotta be somebody worse.', '[Bucky] Whoa. Hey.', '[Bubbles] At least one.', 'Wrong side of the road, Lieutenant.', '[Crosby] Sir.', '[Bucky] Welcome to England.', 'Now, you ask me, those two have watched Test Pilot', 'a few too many times.', 'You watched Test Pilot a few too many times.', 'Yeah. [sighs] Didn’t help.', 'Well, at least we get to tell ’em which direction to point the plane.', '[Bucky] See ya, Buck.', '[Buck] Thanks for the lift.', 'Normally the direct route. In your case, the scenic route.', '[Crosby] Oh, the scenic route? Oh, very funny.', 'I wouldn’t have assumed I’d need to explain to you', 'the gravity of your responsibilities.', 'You are aware this isn’t just about how well your crews make their beds.', 'I am, sir.', 'Which is why I prioritize the flying more than their folding.', 'You are in charge of 35 planes and 350 aircrewmen.', 'Boys who have yet to experience combat.', 'Their lives depend on order and discipline and your example.', 'Yes, sir.', '[sighs]', 'With all due respect…', 'I think I would be of more use to them and you', 'as a squadron commander, rather than an Air Exec.', 'Just because you spin the baton at the front', 'doesn’t make you the band leader.', 'I just don’t think I was made to sit behind a desk.', 'I need to be up there helping my guys.', 'Colonel LeMay has us in his sights.', 'And he’s just itching to pull the trigger on the 100th Bomb Group.', 'That’s not gonna happen on my watch.', 'And I expect all officers to get in the game with me.', 'That means you, Major Egan.', 'You’re dismissed.', '[sighs]', '[retches]', '[groans]', '[breathing heavily]', '[guard] You okay, sir?', 'Should I call the doctor?', 'I’m all right. [breathes heavily]', '[Crosby] Within days, they woke us up for our first mission.', 'With hundreds of hours of flight training in the States,', 'we had to believe we were prepared.', 'We had to, because now it was real.', '[soldier] Sir. Sir, you’re flying today.', 'Major Cleven, sir.', '[Crosby] There was always a special breakfast on mission days:', 'eggs, French toast, flapjacks, double rations of bacon,', 'fresh grapefruit juice and a couple of cups of GI coffee.', 'The men would come to call it the last supper.', 'I hope we all we get back okay from…', 'Chuck, can you pass the salt, please?', 'Uh-oh.', '[soldier] Oh, shit. He spilled the salt.', '[chuckles]', 'Would you please toss the salt', 'over your shoulder, so we can all get on with our breakfast?', '[shaker shatters]', '[soldier 2] Who did that?', '[soldier 3] Jesus.', 'Not the whole thing, Chuck.', '[soldier 4] Doesn’t bring us bad luck.', 'You said toss the salt.', '[soldier 2] Moron.', 'He said toss the salt.', 'Curt, I’m flying with you today.', '[DeMarco] Here you go.', 'You’re what?', 'Sorry, Dick.', 'I know that puts you in the tail, but at least you’ll be able to shoot back.', 'It’s all right.', 'Is Meatball saddling up?', 'Lemmons or Wink will watch him.', 'You don’t wanna go on this one, buddy. I promise you.', 'Well, I better get some of those eggs before they’re all gone.', 'No, don’t bother, Buck.', 'These eggs were hatched and powdered before my balls dropped.', '[chuckles]', 'All right. I’ll pass on the eggs then.', 'Morning, boys.', '[soldiers] Major Veal. Morning, sir.', 'How’d you sleep? [sighs]', 'Fucking great.', 'Like a fucking baby.', 'The new CO flying with us?', 'The new CO, or the new, new CO?', '[soldiers laughing]', 'Don’t worry about the CO.', 'Worry about your flying.', 'I want formation so damn tight', 'you wouldn’t be able to slip a dime through our wingtips.', '[soldier 5] Yes, sir, Major Veal.', '[soldier 6] Yes, sir.', 'Ah-ten-hut.', '[colonel] As you were.', 'The target for today is Bremen.', '[soldiers clamor, laugh, whistle]', 'We’ll be hitting the U-boat pens on the Weser River.', 'Now, I cannot stress enough the importance of this target.', 'We lost almost 70 cargo ships to U-boats last month alone.', 'And if we can’t get material from the United States to Great Britain,', 'we won’t be stepping foot on the continent.', 'The 350th will be in high position with Major Cleven as lead pilot,', 'and the 349th will be low with Major Veal as lead.', 'I’ll be up front with Lieutenant Dye in the 351st.', 'After formation, the 100th will join the 94th, the 95th,', 'and the 96th bomber groups.', 'We will be in the low-low.', '[soldiers sigh, whisper]', 'Tail-end Charlie.', '[colonel] In a total wing strength of 78 heavy bombers.', 'Fuck.', 'Major Bowman, our Intelligence Officer,', 'will take it from here.', 'And Captain Becker will finish up with the weather.', 'Major.', '[Bowman] Thank you, sir.', 'Lights, please.', '[colonel] There you go.', 'Note both naval and ground-based flak positions', 'along the Frisian Islands, from Norderney to Langeoog.', 'Over the mainland, you can expect concentrated flak from Wilhelmshaven,', 'all the way down to Bremen.', 'Identified batteries consist of 88 and 105 millimeter guns', 'guided by Würzburg radar, so they will be tracking you.', 'Navigators, bombardiers, once we’ve wrapped up here,', 'be sure to report to HQ for a specialized briefing.', 'Now, your IP is on the northwest side of Bremen, here.', 'Target map, please.', 'From that initial point,', 'it’s a straight nine-mile run to the target.', 'These are the pens on the east side of the river.', 'Now, this central pen here will be your mean point of impact.', 'And your heading on to the run-up will be 218 degrees true.', 'Immediately after the turn, follow the river.', 'Here you go, Major.', 'Thank you.', '[Dick] Come on, Curt. [sighs] What’s your quote for the day?', 'I’m gonna fly like an angel today, and not die like one.', '[chattering]', 'Major, I think it’s too small. I can’t get it on.', 'Thanks.', 'There you go.', 'Buck, give me a hand with this sheepskin.', 'Yeah.', '[crew member 3] You good? You got this. We got this.', 'I like your aftershave.', 'Good. This is how close I want you on my wing today.', 'Just like we trained for.', 'Yes, sir.', '[person] Good morning, gentlemen.', 'For those who don’t know me, I’m Father Teska.', 'I’m right across the way…', 'Captain Phillips too,', 'if anyone needs us.', 'Thank you, Padre. We’ll be sure to keep that in mind.', 'Mmm.', '[Bucky] Buck.', 'Hey.', 'You all right?', '[Buck] Yeah.', 'What’s this?', 'You settling accounts?', 'It’s my lucky deuce.', 'Your lucky…', 'Jesus, John.', 'Here. Take it.', 'I’ve gone on two missions with it already. I had two wheels down.', 'Look, two corners bitten off. One for each mission. Here I am.', 'Take it.', '[Curt] Get on in here.', 'For luck.', 'All right.', '[blowing kisses]', 'See you later.', '[blows kisses]', 'All right.', 'See you all later.', 'That’s where I’m going.', 'Let’s circle up.', 'As you know, it’s our first mission here.', 'I trust you all to remember your training and know your jobs.', 'Let’s knock one off, and drop bombs on those Nazi fucks,', 'and we get to go home early.', '[crew] Yes, sir!', 'Major here is gonna be flying with us. Major?', 'First time in the sawmill, boys.', 'Let’s rack ’em up and knock ’em down.', '[crew] Yes, sir.', 'All right. Why are we still standing here then?', '[Buck] Everything okay back here, Dickie?', 'Are you kidding?', 'It’s cozy as a suite at the Ritz.', '[chuckles] Thank you.', '[sniffs, sighs]', 'Gentlemen.', 'Sir.', 'We’re blessed to have you on our plane, sir.', 'I feel the spirit of God in you.', 'Yeah, in all of us, pal.', 'You saved my seat.', 'Yeah.', 'Rather offer it to you than have you sit on my lap till I move.', 'Ready for the checklist.', '[Curt] Form 1A?', 'Check.', 'Fuel transfer valves and switches?', 'Both transfer valves are off and switch is off.', 'Intercoolers are cold.', 'Gyros?', '[lieutenant] Fuel shutoff switches?', 'All four open.', 'Cowl flaps?', 'Open left and locked.', 'Throttles?', 'Throttles are closed.', 'Master and ignition switches?', 'Batteries on.', 'And check.', 'Booster pumps, pressure?', '[Dye] Pumps on.', 'Fuel quantity, good.', 'All right, Lieutenant, you ready to start engines?', 'Yes, sir.', 'Start one.', 'Good to have you with us, Colonel.', '[engine starts]', '[Curt] Start two.', 'Start two.', 'Fuel pressure, oil pressure looking good.', 'Start three.', '[Crosby] The B-17 had 12 machine guns protecting us from every side.', 'We called it the Flying Fortress.', 'But the key to our survival was sticking together,', 'creating a combat box of defensive fire from a tight formation.', 'It was important because if we got separated,', 'the German fighters could pick us off one by one.', '[soldiers cheering]', 'Give ’em hell, boys!', '[cheering continues]', 'Show ’em green.', '[colonel] Here we go, fellas.', '[engine rumbling]', 'Sixty.', 'Ninety.', '100.', '110.', 'Okay, boys. Here we go.', '[engine rumbling]', '[Curt] Forty.', 'Fifty.', 'Sixty.', '[cheering]', 'Ninety.', '100, 110.', '[Buck] Still climbing, boys. Three hours before we hit the target.', 'After-takeoff checklist.', 'Climb power is set.', 'Cowl flaps are good.', 'Right gear is up.', '[Buck] Left gear’s up.', '[sergeant] Tail wheel up.', 'Okay, Bosser, let’s get you in the hole.', '[Buck] Okay, Curt, I got control.', 'Pilot to crew. 10,000 feet.', 'Masks on and check in.', '[Bosser] Ball turret, roger.', 'Tail, roger.', 'Right waist, roger.', 'Left waist, okay.', 'Radio, roger.', '[sergeant] Engineer, roger.', 'Navigator, okay.', 'Bombardier, roger.', 'Best, pop a flare.', 'Let’s see if we can get into formation in this soup.', '[Best] Roger that.', 'Is that a flare?', 'Nose to crew, I think I saw a flare right below us.', 'Copy. You see who it came from?', 'Negative. I can’t see a thing out there.', 'Holy shit! B-17 12:00 low. They’re right below us.', '[copilot] Roy, pull up!', 'Damn it! There’s a fort on top of us.', 'Roger. I see him.', '[Claytor] Tail gunner, talk to me back there.', 'Goddamn it, are we clear?', 'Tail to pilot, we’re clear.', '[copilot] Jesus. That was close.', '[Claytor] That’s Cleven’s fort.', 'I’d know that aftershave anywhere.', '[copilot] Are you serious?', '[Curt] I mean, you told him to stay close.', '[Buck] Not like that.', 'Pilot to crew, we got another hour climbing through this muck.', 'Keep your eyes peeled.', '[Veal] Christ. We need to catch up to the rest of the group.', 'We’re way behind. Formation’s a mess.', '[rattling]', '[lieutenant] Engine one running rough.', 'We’re losing it.', '[Veal] Shit.', '[Buck] Pilot to tail gunner. What can you see back there?', 'Tail to Cleven, from our group we’ve got six in formation.', 'The 351st is lined up but the 349th is way back. All six of ’em.', 'Looks like their lead, Veal, is trailing smoke.', 'Roger.', 'Redmeat Lead, this is Surface lead.', 'What’s going on back there, Veal?', '[Veal] Surface Lead, having engine problems. Working on it.', 'Roger. You need to make a decision, Veal.', 'You’re putting your squadron in jeopardy.', 'Pacer Lead, roger.', '[rattling]', '[lieutenant] Sir, we’re miles behind the group.', 'The longer we wait, the longer it’ll take for them to catch up.', '[huffs] Goddamn it. Shut it down.', 'Cutting fuel.', '[engine 1 stops]', 'Feather that prop.', 'Pacer Lead, this is Redmeat Lead.', 'We’ve lost engine one.', 'Can’t maintain this pace. We’re headed back.', 'Copy, Surface Lead.', '[Veal] Redmeat Deputy, we have mechanical failure.', 'I’m heading back. Lead is all yours.', '[colonel] Roger, wilco.', 'Pilot to crew, we’re taking Redmeat Lead position.', 'Go to maximum continuous power.', 'Monitor our consumption.', 'We’re gonna burn a lot of fuel catching up with the rest of the group.', '[siren blaring]', '[soldiers panting]', '[siren continues]', '[speaking German]', '[speaking German]', 'Fire! Fire!', 'Fire!', 'Here we go. Flak incoming. Hold on, boys.', '[Bosser] Ball to crew, flak, 11:00 low.', 'Flak 10:00 high. Four o’clock high.', '[Best] Flak, everywhere.', 'May God rebuke him, we humbly pray.', 'And do thou, O Prince of the heavenly host,', 'by the power of God, thrust into hell Satan.', '[Curt grunting]', '[Buck] Navigator, what’s the ETA for our target?', '[navigator] About 11 minutes.', 'Roger.', '[Curt] Eleven minutes?', '[grunts]', 'The heavenly host, and all the evil spirits…', '[left waist] Holy shit! [grunts]', 'Who wander through the Earth, seeking the ruin of souls. Amen.', '[shrieks, pants]', '[Curt] Shit.', 'Bombardier to command pilot, we should be over the target', 'but I can’t see a damn thing. Should I drop?', '[colonel] It’s no good.', 'It’s no good.', 'Sir?', 'I am not dropping bombs', 'if we can’t see the damn target.', 'Navigator, how does the secondary target look?', '[navigator 2] Navigator to command pilot, the same.', 'Zero visibility, sir.', 'Command pilot to crew, I’m scrubbing this mission.', 'Navigator, prepare a new heading.', '[navigator 2] Roger.', 'Zootsuit Two Lead to Zootsuit Two.', 'Roger. Uncle. Fox. Xray.', '[Dye groans]', '[colonel] Repeat. Roger. Uncle. Fox. Xray.', 'Damn it, CO’s scrubbing.', 'Shit!', 'Surface Lead to Pacer Lead, roger, wilco.', 'Pilot to crew, mission scrubbed. Repeat, mission scrubbed.', '[bombing stops]', 'Flak stopped.', 'You know what that means, boys.', 'Okay. Get ready, fellas.', '[left waist] Roger that, Major.', 'Command pilot to tail, what do you see back there?', '[tail] I can’t get a read on the 349th. They’re still way back.', 'Cleven’s group is close and tight with us.', '[colonel] Roger that. Keep an eye out for enemy fighters.', 'Any second now, boys. Keep your eyes peeled.', 'Top turret to crew, 12:00 high. Fighters!', '[tail] Jesus, they’re fast.', 'He’s going after Veal’s crew.', 'Fighters, 12:00 high!', 'Fuck.', '[grunts]', '[screams]', 'They got Adams. Oh, no. No. They gotta bail.', 'Adams, bail out. Anyone see chutes?', '[tail 2] Tail to pilot, I don’t see any chutes.', 'Roger. Keep calling out those fighters.', 'Fighters! Twelve o’clock high!', 'Schmalenbach’s hit.', 'Oh, Christ. There goes Schmalenbach.', '[captain] Oh, shit. They’re coming straight for us. Jesus.', '[grunts]', 'Mullins.', '[screams]', 'Cleven to tail, what do you see back there?', 'Tail to Cleven, the 349th are in a cloud bank.', 'I don’t see them, sir.', '190s coming back at us.', 'Fighters, 6:00. Eight o’clock!', 'Oh, man. [grunts] Fucking jammed.', '[pants] Fuck, fuck, fuck.', 'Come on! [strains] Come on!', 'Son of a bitch! [grunting] Jesus Christ.', 'Tail, report. Dickie.', '[panting, grunting] Tail to Cleven, fighters are gone.', 'I only see two left from the 349th, sir. Three forts are gone.', 'Dickie, repeat.', 'There’s only two left from the 349th, sir.', 'Jesus.', '[Bosser] Ball turret to pilot. Sir, they shot a hole in the turret.', 'I’m freezing to death. Can somebody get me out of here?', '[Buck] Hey, guys, get Bosser out of there and warm him up.', 'Bosser okay back there?', '[right waist] We’re working on him, sir.', 'Your suit’s all shot up. No wonder.', 'Get him a blanket.', 'Hang in there, boys.', 'We’ll be back at base right after we dump these bombs in the channel.', '[Veal] No power and then she just finally gives up on us completely.', '[engineer] Some tough luck on your first mission, Major.', 'The carburetor mixture link caused a spark plug to load up and foul.', 'It should just take a few hours to fix.', '[alarm blaring]', 'Seven, eight, nine, ten, 11, 12, 13, 14, 15.', '[soldier] We got you. We got you.', 'Let’s go. Go.', '[medic] Come on.', '[grunting]', '[soldiers clamoring]', '[whimpering]', '[medic 2] Stay tight.', 'Shit.', '[retches]', 'Colonel?', '[retches]', 'Colonel, are you okay?', 'Oh, geez. Are you okay, sir?', 'CO needs help!', 'There’s no more coming.', 'I count 15.', 'Same.', 'Nineteen took off, one returned. Three missing.', 'They’re all from Veal’s squad.', 'Come on.', 'Here’s the numbers, sir.', 'Not now.', 'Okay. Get in the fucking truck.', '[crew clamoring]', '[clamoring continues]', 'Van Noy! Hey! Glen! Glen!', '[Bucky] Hey, Veal. Veal, calm down.', '[Bowman] Mouths shut. Get in the truck.', 'Not another word, not another word. Save it for the interrogation.', 'Van Noy, nothing. On the truck.', 'Get to interrogation now.', '[Bucky] Not another word.', '[Veal] I’m just trying to find out', 'what fucking happened to my boys.', 'Get to interrogation.', 'Now! That’s an order.', '[soldier 1] Come on. Get on, man.', 'What are you looking at? You got a fort to patch up.', 'Back to work, boys.', '[Bucky] Let’s go!', '[crew member 1] Let’s do it. Let’s go.', 'Let’s get the truck moving. No talking!', '[breathing heavily]', '[sighs]', '[crew member 2] Yeah. Freaking miracle it didn’t go down.', '[crew member 3] Look at this baby.', '[crew member 4] Yeah.', '[crew member 5] Shredded to shit.', 'This’ll take a while.', 'Let’s fix it up.', 'Ain’t nobody came.', '[crew chattering]', '[crew member 3] We gotta replace it…', 'I don’t know. I don’t know about that.', 'No-flap landing.', 'Motor was shot.', 'I need to get you to interrogation, Buck. Come on.', 'Didn’t drop a single bomb.', 'I had to salvo them over the channel.', 'I know.', '[engine starts]', 'Let’s go.', 'Why didn’t you tell me?', 'What?', 'You’ve been up.', 'Two missions.', 'You didn’t tell me it was like that.', '[sighs]', 'I didn’t know what to say.', 'You’ve seen it now.', 'I don’t know what I saw.', '[sniffs] Thirty guys…', 'Just…', 'I should have been up there with you.', '[sighs] We got a long road ahead of us.', 'Yeah.', '[captain] I admire you Americans. You’re up there in broad daylight.', 'But bombing during the day is suicide.', 'Seeing as you like to do your fighting at night, Bryan.', '[grunts]', 'Who can hit their target at night!', 'Do you feel anything? Because me? I don’t… I don’t feel a thing.', '[Blakely] We have a problem, Major.', 'I can fly.', 'Oh, the hell you can.', 'We’re leading the Wing today.', 'I can’t lead a wing.', 'Whoo!', '[Crosby] Flak, 12:00 level.', '[Dickie] Engine three has been hit bad.', '[gunner 3] Tail to Cleven. Biddick’s been hit.', '[Curt] Prepare for crash landing.', 'Too low. Too low.', 'Pilot to crew. Brace yourselves.', 'Your email address will not be published. Required fields are marked *', 'Name*', 'E-mail*', 'Website', ' \\n\\n', 'In “True Detective,” past arrests and mysterious events intertwine as investigators seek answers in Anne’s case, uncovering dark secrets', 'Spade searches for answers regarding the mysterious young boy that everyone seems to be looking for. Samir takes him into hiding, but no one knows what to make of his incessant writing. Spade gets a call from the elusive Philippe', 'In an interview conducted by Jon Stewart, George Carlin talks about various aspects of his life and career, reflecting upon his childhood, formative influences, and his perspectives on comedy and creativity', 'The 100th bombs German U-boat pens in Norway. With the help of Lt Crosby’s navigating, a damaged B-17 struggles to get back to Britain', '© 2024 Scraps from the Loft. All rights reserved.']\n",
            "https://scrapsfromtheloft.com/tv-series/monsieur-spade-episode-2-transcript/ \n",
            "\n",
            "['Monsieur Spade\\nSeason 1 Episode 2\\nEpisode Title: n/a\\nOriginal release date: January 21, 2024', 'After a horrific murder shocks a small town, retired detective Spade takes the case. Secretive Teresa has clues but won’t share. Spade digs deeper, unaware the killer may target him next.', '* * *', '[Birds chirping]', '[Ominous music]', '[Doctor speaking French] What monster…?', 'Doctor?', 'Let’s go.', '[Door slams shut]', 'Terribly sad. Outside of the antique, I barely got you for St. Valentine’s or whatever. Do you still possess a working pistol?', 'Anyone who wants to shoot me will have to bring their own gun.', 'I have no idea what that means, but it has the ring of your usual moral foolishness. Still, there’s a madman running around. You might want to protect yourself with something more reliable than just your wits.', '[Slow jazz music]', '[Engine revving]', '[Liquid pouring]', '[Glass clinks]', '[Clock ticking]', '[Speaking French] Is it true? The sisters? All of them?', '[Clock ticking]', 'Where’s Teresa?', '[Speaking French] I prepared the blue room for her. Let the poor thing sleep. Whatever you need from her will wait.', '[Door slams shut]', '[Crickets chirping]', '[Gasping]', '[Ominous music]', '[Heavy breathing]', '[Distant clunks]', '[Radio playing in background]', '[Speaking French] Someone slept late? How did your meeting at the bank go? In order to get a loan, I would need to have almost as much as I want to borrow.', '[Speaking French] Why don’t you ask Sam?', '[Speaking French] Don’t start.', '[Speaking French] You wore the necklace.', '[Speaking French] Fuck luck. Always.', '[Speaking French] Or forget the bank and sell it?', '[Speaking French] When Gabrielle gave this to me, she said “Give rubies away, but not your precious heart.”', '[Speaking French] Wait. Leave it on.', '[Speaking French] What happened to us?', '[Speaking French] I don’t know. The war?', '[Speaking French] The easy answer.', '[Speaking French] Maybe you could pretend that I am someone else.', 'Teresa?', '[Knocking]', '[Ominous music]', 'Have you seen Teresa?', '[Speaking French] This morning? No. Is she not in the bedroom?', 'No.', '[Speaking French] Well, she couldn’t have gone far. Not on foot.', 'She could have. If she left last night. Or if someone came and took her.', '[Slow string music]', '[Engine revving]', '[Breaks squealing]', 'Cheeky little automobile, Mr. Spade. Out to enjoy some of that fresh country air, are we?', 'Something like that.', 'Ah, both you and the girl.', 'You saw her?', 'Yes. At dawn, I was on my way here. The colors at sunrise are a painter’s dream.', 'She was on the road?', 'She came past me. Her shoes were muddy. As if she’d been running. And her eyes, they were downcast. Seemingly upset.', 'What color were they?', 'I think they were… Ah, yes. Sorry, a bit obsessed with details. Occupational hazard, I’m afraid.', 'Yeah, you said she was upset?', 'Yes, well, I imagine the massacre at the manor was the cause.', 'Oh, you heard about that, huh?', 'Everyone’s heard about that.', 'From the girl?', 'No, I waved. Tried to chat with her, but she just ignored me.', 'Can’t say I blame her.', 'Pardon?', '[Engine revving]', '[Intense orchestra music]', '[Distant dog barking]', '[Car door slams shut]', 'Teresa?', '[Mysterious piano music]', '[Water sloshing]', '[Scrubbing floor]', 'You’re asking the wrong guy. In my experience, the better souls never stand a chance.', '[Ominous music]', '[Ominous music intensifies]', '[Bell tolls]', '[Bell tolls louder]', '[Sam coughing]', '[Slow string music]', '[Chain rattling]', '[String music intensifies]', 'These things will kill you.', 'These are the same ones doctors smoke.', 'I saw on TV.', '[Coughing]', 'Yeah, you really seem to be enjoying them.', 'Yeah, all right, climb down before you', 'make yourself dizzy and break your neck.', 'I’m not leaving.', 'Philippe’s not coming.', 'He promised.', 'I’m sure he did.', 'Did you do this?', 'No. You know who did?', 'How could I? We’re not allowed up here.', 'And yet, here you are.', 'They’re all dead.', 'What difference did their useless rules make?', 'I’ll tell you what.', 'You stay and wait for your father to show up,', 'smoke to your lungs’ content. I’ll be back at sundown.', 'If you’re still hanging around, you come home with me.', 'If not, then swell knowing you and I hope', 'you and Philippe have a nice life on the run.', '[Barn door opening]', 'Shit!', '[Engine revving]', 'Any idea how she ended up inside the chapel last night?', 'I don’t play with dolls anymore.', 'So, no idea how she lost her head?', 'I gave her away years ago.', 'You know this car still smells like roses.', 'She’d bring treats to the orphanage at Christmas.', 'Gabrielle.', 'Oranges from California.', 'Imagine that.', 'Sometimes she’d bring me books or a blouse,', 'or some other piece of clothing she was done with.', 'The books were all in French.', 'She said that once I started to dream in French,', 'I’d be fluent.', 'She said the same to me.', 'Sadly for everyone, I still dream in English.', 'Though usually French wins.', 'She didn’t want me to hate you,', 'for what you did to my father.', '[Gunshot]', 'Get down.', '[Tires screeches]', '[Intense music]', '[Engine revving]', 'Stay down.', '[Gunshot]', '[Tires squeal]', 'You all right?', '[Motorcycle revving]', '[Engine revving]', '[Intense string music]', '[Motorcycle revs in distance]', 'Mr. Spade?', 'Nasty business. This car’s cursed.', 'Not the person who shot that window,', 'that’s for sure.', 'Are you saying they missed on purpose?', 'The car was moving too slowly', 'for the gunman not to have hit me.', 'And what about the second shot?', 'Self-defense. I was about to run him over.', 'Yes, of course you were.', 'I’m not even sure it was meant for me.', 'George: Ah! Lovely. That’s great.', 'That’s my new neighbor.', 'An odd fellow.', '[Sighs]', 'Philippe could have taken the shot.', 'With Teresa in the car?', 'Hard to imagine even Philippe doing that.', 'And he’s wounded, which shouldn’t make him too hard', 'to find for a pair of top detectives like you and…', '[In French] your idiot brother.', 'Samuel, we talked about you using words', 'like “moron” and “idiot” when speaking to my brother.', 'Terms of endearment.', 'We’ve checked the two hospitals in the area.', 'No one with a bullet wound has been admitted.', 'Same goes for veterinarians and dentists.', 'Sounds like you two are right on top of things.', '[Footsteps]', 'Mr. Spade, can I borrow your lawyer?', 'You were four years old.', '[Pencil scrawling on paper]', '[Bike chain winding]', 'Henri: I took her to Le Canard Noir,', 'that old place in Rodez.', 'Set me back 20 francs.', 'I’ll take care of that.', 'Best 20 francs I ever spent.', 'With that stupid grin, I’ll assume that', 'you and Mademoiselle Ruse are once again exchanging…', '[In French] the heat of passion.', 'In the General’s office. On his desk.', 'I hope one of you didn’t wrinkle Philippe’s file.', 'Sergeant Saint-Andre’s file is rather short.', 'On several pages, names, dates, places are blacked out.', 'He’s army intelligence.', 'I’m sorry, I couldn’t get more.', 'That’s plenty.', 'Philippe, a spy.', 'I guess the war really did deplete the supply of able men.', 'There was something I heard, just a rumor.', 'Well, there’s this bow near the base,', 'where a lot of ex-Deuxième Bureau guys hang out.', 'Every so often, I go there for a drink,', 'and the other night, there was some joking about', 'Saint-Andre hiding a young woman in his quarters', 'his last time on base.', 'He’s probably not the first.', 'The woman was Algerian. No one heard her name.', 'Thank you, Henri. Much appreciated.', 'Any time.', 'I must confess, since I was a child,', 'you’ve been my hero.', 'Your hero?', 'Oui.', 'My advice, trade up.', '[Water splashes]', '[Ominous music]', '[People talking in the distance]', '[Romantic Latin music]', 'Woman: You know what they say,', '“Marry for money, divorce for love.”', 'I thought it was, “marry for money, earn every nickel.”', 'Which do you believe?', 'I’ll get back to you.', 'You forget something, sweetheart?', 'We’re having a swim, aren’t we?', 'What will the gardener think?', 'I’m not worried about the gardener', 'leaving me for someone younger.', 'If I were you, I’d be more worried about mosquito bites.', 'I’m not going anywhere.', 'I’m just reminding you, there’s more to me than my money.', 'How could I ever forget?', '[Water splashes]', 'Doctor: Why must the innocent always pay for the rest of us,', 'for our sins?', 'When the Nazis paid their little visit,', 'mother superior ran guns for the underground.', 'Your point?', 'No one’s innocent.', 'Still, one tries to be on the right side of things.', 'If only one knew what that was.', 'Six dead nuns, five files.', 'Which one is missing?', 'I know these women. I examined them every six months.', 'Three were from Spain, one was from Portugal,', 'and the mother superior was born here.', 'The last was an African. We had not yet met.', 'There’s no file for her.', 'I met that one briefly. [Coughs]', 'Can I see the bodies?', 'Patrice had them all bagged for transport to Paris.', 'Does Patrice really want Paris', 'crawling up and down his town?', 'He does not,', 'but he understands that six massacred nuns,', 'or dead nuns in any number,', 'bring much unwanted pressure.', 'And Paris is better equipped.', 'The extent of the autopsies I can do', 'run from death from fall off ladder', 'to death from heart attack.', 'Don’t forget boredom.', 'You joke, but the ministry was quite serious', 'and quite clear in their instruction.', 'I was not to touch the bodies.', 'Of course, they said that after I found this', 'around the neck of the African.', '[Bell rings]', '[Envelope rustles]', 'I didn’t know nuns were allowed to wear jewelry.', '[Locket clicks]', 'Real nuns, that is.', '[Suspenseful orchestral music]', '[Discordant music]', '[Laughing]', '[Clock ticking]', '[Suspenseful piano and orchestral music]', '[Footsteps approaching]', '[Door opens]', '[Gun clatters]', '[Gun clatters]', '-[Door thuds and squeaks]', '[Door slams]', 'We must wait for the replacement windows', 'to come from England.', 'How long?', '[Dog barking]', 'Who shot you?', 'Technically, I was shot at.', 'Just a second.', 'I care about this car, so whatever your feelings for the late Jacques Laveront, promise me you’ll take good care of her.', 'I’ll treat the car as I would any beautiful woman I despise, with respect in her presence and lust in her absence.', 'Good, then we understand each other.', 'I think.', 'Ciao, Anatole.Sam.', 'Just happened to be passing by?', 'No one has been shot or shot at here for a long time.', 'Not since the war.', 'And that was collaborators killing partisans and partisans killing collaborators, not some crazy person executing nuns.', 'There’s been another war since, in case you’ve forgotten.', 'And we both know that one’s made plenty of people crazy and desperate.', 'This is not really about people though.', 'This is about you.', 'There are six dead women who might say otherwise.', 'That was yesterday.', 'Today someone shot at you.', 'But you’re not worried about me.', 'Could Jean-Pierre have done this?', 'Sure, he could have, but he didn’t.', 'How do you know?', 'He’s all talk. But murder, no.', 'Jean-Pierre would disagree.', 'So would every man who went to war.', 'That’s why they give them medals, with snappy uniforms to pin them on.', 'That way, whenever they look in a mirror, they see a soldier.', 'And what about the man who burns his uniform and sells his medals?', 'What does he see?', 'You may think you understand him, but you make him feel small.', 'You make most men feel small.', 'That’s because they don’t know me.', 'Then, I’ve never much cared what other men thought of me.', 'Not caring doesn’t make one bulletproof.', 'You should needle point that one on a pillow.', 'Sometimes, Sam…', '[Birds chirping]', '[Cuckoo cooing]', 'Spade, I’d like you to meet my mother.', 'Lady Cynthia, Sam Spade.', 'How do you do, Mr. Spade?', 'I’ve been better.', 'I’m so sorry for invading your devastatingly attractive', 'home without being asked, but George said he…', 'he didn’t think you’d mind.', 'I don’t. Nice to meet you.', 'Oh, Mr. Spade.', 'Um, please feel free to say no,', 'but may I ask you an enormous favor?', 'Sure, you can ask.', 'I’ve never seen the landscape', 'my husband painted for your late wife.', 'Um, would you mind, terribly,', 'if I came inside with you and took a peek?', 'May I come, too?', 'I… I haven’t laid eyes on that painting', 'since the day of the unveiling.', 'More the merrier.', 'Ah. Ah.', 'George and I have rented the villa next door.', 'Uh, we’re neighbors.', 'Though, of course, it’s hardly as scrumptious as all this.', 'Gabrielle’s family got the house on the cheap.', 'The previous owner died suddenly.', 'Oh.', 'He was guillotined.', '[Cynthia gasps]', 'In fact, he got his head chopped off', 'right after Marie Antoinette.', 'Oh, dear.', 'Mother, he’s pulling your leg.', 'Oh, capital. [Laughing]', 'Oh, you’ll find I’m extremely gullible, Mr. Spade.', 'Somehow, I doubt that.', '[Door opens]', 'Oh, thank you.', 'George, look at this marvelous place.', 'Oh, they don’t make them like this anymore, do they?', 'Ooh, oh, oh.', '[George and Cynthia sighing and laughing]', 'It’s just wonderful!', 'Yes, Mother, notice the shadowing.', 'Ah.', 'Ah.', 'Singeon’s sense of color was always divine.', 'And look, George, look how he’s captured', 'the… the delicate flesh tones of this lovely, naked lady.', 'Well, I’ll leave you two to show yourselves out.', 'Yes, thank you so much.', 'Awfully kind of you.', '[clock chimes]', 'Oh, one more thing.', 'I believe we have a mutual friend,', 'Philippe Saint-Andre.', 'I wouldn’t say that Philippe and I are friends,', 'more like, a long time ago, we bumped into each other.', 'Oh, oh, I… I… I… I see.', 'Well, I… I hear he’s returned to Bazuel.', 'I would love to say hello.', 'I’m afraid I can’t help you.', 'I’ve no idea where he is.', 'Mm, pity.', 'How do you know Philippe?', 'Well, uh, years ago,', 'he purchased one of my husband’s masterpieces.', 'Really?', 'Mm.', 'He paid a generous sum for it, too.', 'Are you sure we’re talking about', 'the same Philippe Saint-Andre?', 'The Philippe I know isn’t one to part with a generous sum,', 'or any kind of sum,', 'for anything that he could just as easily take.', '[Radio announcer speaking French]', '[Item thuds]', 'No.', '[Footsteps retreating]', '[Birds chirping]', 'Well, this morning, I had to get a ride from Basem', 'to buy two new tires.', 'You had to slash the spare, too?', 'I don’t know what you’re talking about.', 'You sound like your mother.', 'That was her favorite answer to every question.', '“I don’t know what you’re talking about.”', 'It was like a tick. [Coughs]', 'And that’s what you get', 'for saying such things about my mother.', '[Sam coughing]', 'Are you all right?', 'Are you sick?', 'Couldn’t be better.', 'Just tell me where you saw this glint.', 'Yeah, no one’s gonna take a shot from there.', 'What’s that? Is that a clue?', 'Right now, it’s just an empty pack of cigarettes.', 'Well, they haven’t been here very long.', 'Really?', 'Yeah, it was windy last night,', 'so if the pack was here before,', 'it would’ve been covered in leaves.', 'Interesting theory.', 'Okay, tell me what you saw in the chapel.', 'I’m really hungry.', 'Teresa.', 'Helena said she’s making me ravioli.', 'What did you see in the chapel?', 'I told you.', 'That monk fellow hit the mother superior', 'and then we all ran away.', 'Yeah, you said that before, and you were very convincing,', 'but someone locked the kids in the closet,', 'and this morning, someone took a shot at you.', 'At me?', 'To scare you, to keep you from talking,', 'which means you either saw something you shouldn’t have', 'seen or you know something you shouldn’t know.', 'Why did Philippe come running to you?', 'I’m his daughter.', 'You’re his daughter, yet he didn’t feel the need', 'to fill you in on who shot him and why?', 'He was protecting me from knowing things I shouldn’t.', 'Protecting you how?', 'By then, just leaving you alone?', '[Birds chirping]', 'My father didn’t come to see me.', 'He was there to meet someone else,', 'one of the sisters.', 'Which one?', 'The new one, soeur Angelique.', 'Then his plans changed when he got shot.', '[Locket clatters]', 'Yeah, that’s them.', '“Them”? What, the kid was with her?', 'No, he came a month later with Papa.', 'So, Philippe shows up wounded, with a kid,', 'and tells you what?', 'To hide the boy', 'while he found a place to stay and got patched up.', 'He said he’d come back for us in a day.', 'He leaves the kid with you, takes off,', 'and the monk comes knocking.', '[Birds chirping]', 'I was hiding Zahid in the tower', 'when I heard the kids screaming.', '[Children screaming]', 'They were running from the chapel.', 'They said a priest hit… [In French] mother superior.', 'So, you didn’t actually see him hit her', 'like you’ve been saying?', 'No.', 'Then what? You locked the kids in the closet?', 'To keep them safe.', '[Door slams]', '[Key rattles]', 'Shh, shh!', 'I ran back to my room.', 'And heard the first gunshot.', '[Gun fires]', '[Monk speaking in French]', 'The monk was shouting.', '[Monk and nuns whispering in French]', 'He was telling soeur Angelique that she had to watch', 'while he asked each of them where the boy was.', '[Gun clicks]', '[Monk speaking in French]', 'And when they wouldn’t say…', '[Gun fires]', 'he shot them…', 'one by one.', '[Nuns whispering in French]', '[Gun clicks]', '[Monk talking in French language]', '[Nun screams]', '[Gun fires]', '[Teresa panting]', '[Nun moans]', '[Gun fires]', '[Gun clicking]', '[Nun screams]', '[Gun fires]', '[Nun screams]', '[Gun fires]', 'I tried to close my eyes, but I couldn’t look away.', 'And then…', 'Then what?', 'He saw me.', '[Gasping]', '[Thuds]', '[Teresa panting]', '[Monk grunts]', '[Knife scrapes]', 'So, you told him where the boy was?', 'No.', 'You weren’t afraid?', 'I had my knife.', 'Well, sadly, I lost it.', 'In the chapel?', 'In the monk.', '[Knife stabs]', '[Monk screams]', '[Squelches]', '[Footsteps thudding]', '[Door slams]', 'I ran to the bell tower, but the boy was gone.', 'Who is this kid', 'that someone would kill six people to find him?', 'I don’t know.', 'But right before he killed her…', 'Soeur Angelique said something.', 'The Mahdi?', 'What the hell has your father gotten you into?', '[Suspenseful orchestral music]', '[Suspenseful orchestral music continues]', '[Wood clatters]', '[Suspenseful orchestral music intensifies]', '♪', '♪', '♪♪Let’s play a game, you and I, called “I won’t lie to Sam.”', '♪', 'We got a meeting with the bishop. Want to come along?', 'As long as no one asks me to confess.', 'Mr. Spade, do you have any specific information you want to share?', 'I just did.', 'I need to find Philippe.', '[Chuckles]', 'If I want you dead, I just have to wait.', '[Telephone rings]', 'You want to have a real conversation, knock on my door.', '♪', '\\n\\n\\n\\n\\n\\n', 'Your email address will not be published. Required fields are marked *', 'Name*', 'E-mail*', 'Website', ' \\n\\n', 'In “True Detective,” past arrests and mysterious events intertwine as investigators seek answers in Anne’s case, uncovering dark secrets', 'Spade searches for answers regarding the mysterious young boy that everyone seems to be looking for. Samir takes him into hiding, but no one knows what to make of his incessant writing. Spade gets a call from the elusive Philippe', 'In an interview conducted by Jon Stewart, George Carlin talks about various aspects of his life and career, reflecting upon his childhood, formative influences, and his perspectives on comedy and creativity', 'The 100th bombs German U-boat pens in Norway. With the help of Lt Crosby’s navigating, a damaged B-17 struggles to get back to Britain', '© 2024 Scraps from the Loft. All rights reserved.']\n",
            "https://scrapsfromtheloft.com/tv-series/slow-horses-s03e06-footprints-transcript/ \n",
            "\n",
            "['Episode Title: Footprints\\nSeries: Slow Horses\\nSeason: 3\\nEpisode: 6\\nOriginal release date: December 27, 2023\\nPlot Summary: In Slow Horses‘ season 3 finale, “Footprints,” the stakes couldn’t be higher as River, Louisa, and Catherine find themselves trapped in a tense hostage situation with the rogue agent Sean Donovan. Here’s a quick breakdown of the key plot points:', '1. Catherine’s Rescue: The episode opens with River and Louisa infiltrating the secret facility where Catherine is being held captive by Sarah, a high-ranking MI5 official involved in a vast government conspiracy. They manage to free Catherine, but their escape plan hits a snag.', '2. Standish’s Capture: Back at Slough House, the remaining Slow Horses learn that their boss, Jackson Lamb, has been captured by MI5 for his unauthorized mission. They decide to rescue him, with Roddy playing a crucial role in tracking down his location.', '3. The “Footprints” File: Donovan reveals his true motive: obtaining a confidential government file called “Footprints,” containing explosive information about MI5 corruption and cover-ups. Catherine’s late girlfriend, Alison, planned to expose it before her suspicious death.', '4. Betrayal and Double Crosses: Loyalties blur as Shirley and Marcus engage in a tense standoff with Duffy, Sarah’s MI5 enforcer. Meanwhile, Catherine confronts her own demons related to Alison’s past and her role in the conspiracy.', '5. Escape from the Bunker: River, Louisa, and Catherine find themselves cornered in a hidden escape tunnel, facing imminent danger. Just when all hope seems lost, Shirley arrives in Marcus’ stolen car, providing a dramatic getaway amidst a hail of gunfire.', '6. A Race Against Time: The Slow Horses split up: River races to deliver the “Footprints” file to safety, while Louisa and Catherine head back to Slough House to warn Lamb of the impending MI5 crackdown.', '7. Climax and Showdown: Lamb rallies the Slow Horses for a last stand against Duffy and Sarah’s forces. As a fierce battle ensues, the episode builds to a thrilling climax that leaves the future of Slough House and its members hanging in the balance.', '“Footprints” offers a high-octane, action-packed conclusion to season 3, wrapping up plot threads while leaving some intriguing questions unanswered. It sets the stage for a potential season 4, with the fate of the Slow Horses and the secrets exposed in “Footprints” yet to be determined.', '* * *', '[gunfire]', '[Chieftain 1] Move, move, move!', '[Chieftain 2] Reloading.', '[Chieftain 3] The bomb has been placed. Take cover.', '[Chieftains shouting]', '[Louisa] You just killed an MI5 officer.', '[Chieftain 2] Well, yeah. Who the fuck do you think sent us, you stupid cow?', '[screams]', 'Your friend might still be alive.', 'If you wanna help him, you’re gonna need cover.', 'Oh, my God. How is this happening? [panting]', 'River!', 'I can’t get to him.', '[Sean] I got you.', '[gunfire continues]', 'Three, two, one.', 'River! River, wake up. River, come back, come back.', '[screams, grunts]', 'Can you hear me? River, wake up.', 'Come back to me, River. River, come on.', '[River coughing]', 'Thank God. Come on.', 'Look at me. Look at me.', '[River exhales sharply]', '[Louisa] Come on.', 'We gotta get out of here. Come on. Stand up. Stand up.', '[River groans, coughs]', '[Fenwick] Breach!', 'Fall back. Fall back.', '[grunts]', '[breathing heavily]', 'Can you stand up?', '[coughing] Yeah.', '[panting]', 'Duffy, come in.', 'Hello?', '[Fenwick] Can you send more men down?', 'What’s happened?', 'Stiffer resistance than expected.', 'Oh, for fuck’s sake, Fenwick, I thought you were professionals!', 'Just send them down.', 'You four, down below. Now.', 'Oh, shit. Where’s the gun?', 'I’ve got it.', 'Oh. Give me it.', 'No, you had your go.', '[River] Gi–', 'Come on, you two. Let’s go.', 'Wait, wait. What-What about them?', 'It’s all right. I had a word.', '[River] Hmm.', 'Douglas said there’s a hatch at the end of that tunnel.', 'Go. Go, go!', '[grunts]', '[River] Come on. Come on!', '[grunts]', '[Louisa] Why are they trying to kill us?', 'What the hell is in that file?', '[panting]', '[“Strange Game” playing]', '[sniffs, sighs]', '[sighs]', '[crunches]', '[sighs] If you hear a crunch on the stairs, use this.', 'You, come with me.', 'Up. There you go. Go on.', '[sighs] Here-No, no. In here.', '[Catherine] What?', 'Go on. In there. Hide.', 'I can be of more use than that.', 'No, you can’t.', '[Sturges] Why are we waiting?', '[Hobbs] Because something’s off.', 'No lights, no sound.', 'She’s a hostage. No one should be sleeping.', 'All right, fuck this. Let’s get this over and done with.', '[sighs] Fuck’s sake.', 'Oi, ball bag. Wait.', 'Why?', 'Standish is one of Lamb’s.', 'Who?', 'Jackson Lamb.', 'Who’s Jackson Lamb?', 'A wily old fucker. Had a run-in with him in the past.', 'He’s not here now, is he? So…', 'Just be careful, is what I’m saying.', 'He’s got a nasty habit of turning up places.', 'All right. I’ll be careful.', 'Look, there’s a slow kid in there and a fucking librarian.', 'It’s hardly like another spare part’s gonna make a difference, is it?', 'Just wait.', 'The fuck?', 'Fucking hell! Fucking put it out! Come on!', 'Fucking hell!', 'You good?', 'No!', 'Fucking prick.', '[Sean grunting]', 'I don’t think I can go on.', 'Just put me down, and I’ll cover you.', 'No. Shut up. We’re not doing that. Come on.', 'Come on. We’re gonna need you the other side.', 'Yeah. Come on. Just a bit more.', '[groans] No! Stop, stop, stop!', '[Louisa] Okay, okay.', '[stammers]', '[Sean groaning]', '[River, Louisa panting]', 'Just read it.', 'Come on.', '[Sean panting, groaning]', 'Take it out there.', '[breathes shakily]', 'This is the kind of shit we claim our enemies do.', '[Sean breathes heavily]', 'They murdered Alison to protect their reputations.', 'Killed Ben.', '[groaning, panting]', 'Don’t let it be for nothing.', 'Please.', 'Just–', 'Just put me down there.', 'Yeah?', '[Louisa stammers]', '[strains, groaning]', '[River] Okay. All right. Okay. [grunts]', '[grunts] Thank you.', '[River] All right.', 'Go! [panting, grunts]', '[River] Come on.', '[Sean] Put it out there.', '[gunfire]', 'I don’t think I want my job back this badly.', 'Hey, you said follow your lead.', 'What?', 'I’m waiting. What’s the plan?', 'How are we going to save River and Louisa?', 'Don’t know. F-Fuck.', '[gunfire]', 'This was your idea, Rambo!', 'I thought they’d back down if we showed a bit of force, okay?', 'What, this was just cosplay for you?', 'What’s happening?', 'What’s happening at the perimeter? Over.', '[sighs] Look, you need to sneak up,', 'round, behind and take him out. I’ll cover you.', 'Fuck off.', 'How about I cover you, you sneak up–', 'I’m getting the shit end of this. I’ll stay here and get shot at.', 'Yeah, and I’ve got to take out two soldiers.', 'What do you wanna do? Rock, paper, scissors?', 'All right.', 'N-[sighs] I didn’t mean it. We ain’t got time for that.', '[Nick] What’s happening?', 'Look, if they call someone in to flank us or come behind, we’re fucked.', 'Oh, fuck.', 'Okay, I’ll go.', 'Good.', 'But if we make it out of this, I need you to promise me something.', 'Yes, I’ll help you get clean.', 'You sanctimonious prick.', '[gunfire]', 'What were you gonna ask me?', 'Fuck off after three,', 'What were you gonna say?', 'two–', 'But what do you need?', 'I need you to not let those fuckers shoot me!', 'One!', '[gunfire continues]', 'You two, get to the Turbine Hall. Come on.', '[breathing heavily]', '[breathing shakily]', '[breathing shakily]', '[breathing shakily]', '[breathes deeply]', '[Sturges panting]', '[breathes shakily]', '[sighs]', '[glass shatters]', '[Hobbs grunts] Shit.', '[exclaims, groans] Fucking bastard.', 'Oh, shit.', '[gunfire]', 'Hobbs?', '[breathing heavily]', '[grunts]', '[Sturges] You all right?', 'Yes, mate.', 'Fucking time of me life. [groans]', 'Set.', 'Do it.', '[Chieftain 1] Firing!', 'Fuck, come on.', '[Louisa] Shit.', 'What the f-fuck?', '[Louisa] Forget it, forget it. The hatch is just over here!', '[Fenwick] Clear.', 'Move.', 'Last man. Move.', '[breathes deeply, grunting]', '[sighs]', '[inhales sharply, sighs]', '[panting] Right.', 'Shit.', 'What would Alexander the Great do?', 'Time to change the game.', '[music playing on radio]', 'Get in!', 'The Ho-sold Cavalry is on its way.', 'Where have they gone?', 'Still behind that block.', '[gunfire]', 'This is a waste of ammo.', 'Make them think we’ve gone. Then we’ll blow their heads clean off.', '[gun malfunctions]', 'Shit!', 'She’s mine!', 'Check your guns, Longridge.', '[gunfire]', '[Shirley groans]', '[grunting]', '[grunts, groans]', '[panting] Oh, shite.', '[panting, groaning]', '[breathes shakily]', 'Shit. Fuck.', '[floorboard creaks]', '[grunts, whimpers]', '[grunting]', '[grunting]', '[screaming]', '[groaning]', '[Sturges screams]', 'Ball bag?', '[grunting, whimpers]', '[grunting, gasping]', '[Sturges] She fucking shot me.', '[Sarah, Sturges grunting]', 'Ball bag!', 'Hobb-Hobb-[choking]', '[Sarah grunting]', 'Ball bag, was that you or…', '[sighs]', '[sighs]', '[Hobbs sighs, sniffs]', '[gasping]', '[Sarah strains, whimpers]', '[breathing shakily, whimpering]', '[floorboards creaking]', '[Hobbs groans]', '[body thuds]', '[pants] Standish, you can come out now.', 'Did you put me in there as bait?', 'God, what’s the matter? He’s dead, you’re not.', '[sighs] Should’ve let him shoot ya.', 'Sarah, are you okay?', 'Uh… [stammers] …kind of.', 'And I just killed a man.', 'Oh.', '[sighs]', '[vehicle engine rumbling]', 'Move!', '[“Superstar” playing on radio]', '[stammering]', 'Can you talk me through your thinking here?', 'Take out the bad guys.', 'Did I get anyone?', 'No.', '[stammers] We already did that.', 'Hello, Roddy.', '[“Stars” playing on radio]', '[camera shutter clicking]', 'What the fuck have you done to my house?', 'It’s a good excuse for a makeover.', 'What? Seriously. Insurance means you can get it done up better than before.', '[Jackson] No, I don’t think insurance will cover it.', 'Deliberate destruction using a bus driven by a fucking idiot.', 'I know you haven’t got your rifle working.', 'Otherwise, you’d be shooting at me.', 'And you might be thinking I won’t shoot you.', 'An unarmed combatant… and a woman.', 'But I served in Iraq!', 'And I used civilians for target practice.', '[both grunting]', 'I’ll fucking gut you for that.', '[groaning, panting]', '[both grunt]', '[Shirley grunts]', '[grunts]', '[breathes deeply]', '[gasping, grunts]', 'Night night, sweetheart.', '[Shirley grunts]', '[sighs, panting]', '[choking]', '[sighing]', '[grunts]', '[gunfire]', '[Diana] Shouldn’t you have heard from Duffy by now?', 'He’ll call when he’s contained the situation.', '[Diana] You mean when he’s murdered fellow agents at your bidding?', 'They’re Slow Horses.', 'I call it mercy killings. Putting them out of their misery.', 'They’re still MI5 agents, Ingrid.', 'You’re killing your own.', 'You set this whole thing in motion, sending Donovan down there.', 'You’re the one who should answer for their deaths.', 'You gave the order.', 'How are you gonna explain it to Home Office and the people in this building?', 'A bunch of disaffected MI5 agents broke into the facility to steal state secrets and were met with ultimate force. Simple.', '[chuckles]', 'That-That isn’t gonna wash with the press.', 'The press aren’t going to know.', 'If it were as easy as you say… then why haven’t you heard by now?', 'Please don’t worry about me, Diana.', 'I’m going to be just fine. [sighs]', 'Duffy is very good at his job.', 'You trained him well.', '[Nick] Give me an update from the Turbine Hall.', '[radio static]', '[sighs] For fuck’s sake. Fucking learn!', 'Fucking learn to multitask!', 'Give me-Give me that fucking weapon. Get another one!', 'Remember, if anyone comes out of that hatch, blow their fucking heads off.', '[breathes shakily]', '[sniffs, grunts]', 'Clear. [grunts]', 'Not clear, fuckers.', '[panting] Shit.', '[groans]', '[screams]', '[groans]', '[gunshot]', 'Now it’s fucking clear.', '[gunfire]', '[pants]', '[Shirley grunts]', 'You can come out now.', 'Shit.', 'That gun you gave me, it jammed.', 'Well, you must have reloaded it wrong.', 'Are you mansplaining a gun to me?', 'Well, it’s a rifle actually.', '[Fenwick] Flushing them through.', 'Targets will emerge from hatch imminently.', '[grunts]', 'Give me your car keys.', 'What?', 'Your car keys!', 'Why?', 'Just throw them up here!', 'Keys, quick!', 'You’re not gonna help?', 'I’ve just taken out four men. What have you done?', 'Done nothing, love. He’s dead fucking weight!', 'Duffy, what are you doing firing on your fellow agents?', 'Shut up, I’m following orders, something you never learnt to do.', 'Keys, quick!', 'Fine.', 'There. Go. I got this.', 'Not sure you have.', '[Marcus] Duffy!', '[strains]', 'Fuck! Down, down, down.', 'Fuck.', 'We can’t get out that way.', 'Shit.', 'We gotta close that door!', '[Chieftains shouting]', '[River] No, no, no. Back, back, back, back!', 'Back up the ladder!', 'I’m not fucking dying here today.', '[glass crunches]', '[gun malfunctions]', 'Fuck.', 'Up.', 'Put the gun down.', 'Put the fucking gun down. Now.', 'To think I asked you to join the Dogs, and you can’t even count the bullets in a magazine, you fucking clown.', 'Guess I’d rather work for Lamb than a prick like you, Duffy.', '[laughs] Yeah?', 'Yeah.', 'Well, he’s a dead man. So are you.', '[gun malfunctions]', '[both groaning, grunting]', '[both grunting]', '[groans, straining]', '[screams]', '[both grunting]', '[both grunt]', 'Come on.', '[laughs]', '[Marcus laughs, panting]', 'You’re not a clown. Eh?', '[both grunting]', '[grunts]', '[grunts]', 'Oh, shit.', 'Fuck. I think he broke my fucking thumb!', 'Get the fuck out!', 'I’m gonna take them out, then I’m coming back down to break your other thumb, you fucking girl.', 'Night night.', '[Fenwick] Fuck.', '[all panting]', 'Oh, fuck.', 'Okay, can someone please tell me, why is everyone trying to kill you?', 'Ah. [pants] For this.', 'You better get it out of here, no?', 'Yeah.', 'Appreciate that, thanks.', '[Shirley] You’re welcome.', '[River] Well played.', '[sighing] Oh, fuck.', 'Is that Marcus’s?', 'Yeah.', 'Where is he?', '[both panting, grunting]', '[grunting]', '[pants, chuckles]', 'I wanna hear you say it. I’m better than you! Say it!', 'Yeah. Yeah.', 'Yeah, you’re fucking better than me.', 'You beat me.', 'Fair and square.', 'Huh?', 'I don’t fight fair or square.', '[Louisa screams]', '[Louisa, Marcus panting]', 'Guess now we’re even.', '[chuckles]', 'Yeah. [pants]', '[helicopter blades whirring]', '[sirens wailing]', '[Diana] Duffy doesn’t seem to have contained the situation.', '[line ringing]', 'It’s over.', '[Nick] Duffy. I’ll call you right back.', 'It’s not just MI5 attacking its own.', 'You’ll have to answer to Istanbul too.', 'Well, if I have to go, it will be kicking and screaming.', 'Just make things worse and the end result will be the same.', 'You’ve played the game well, Ingrid.', 'But you have lost.', '[phone ringing]', 'Oh. Hello?', 'Lamb?', 'No, it’s Catherine. He’s driving.', '[Shirley] They freed you then? We were down at the facility.', 'Is everyone okay?', 'Uh, yeah, River and Louisa made it out.', 'Uh, he’s got some file.', '[Catherine] I’m glad you’re safe.', '[Shirley] You too.', 'I’ll see you tomorrow.', 'She said, “See you tomorrow.”', 'She ain’t Lamb though, is she?', 'At least the people who tried to kill us won’t be in charge anymore.', 'You gonna turn up?', 'Well, I doubt I’ll be hanging out at home after Cassie sees the state of this car.', 'Well, at least you got the gambling to pay for a new one.', '[chuckles]', '[Roddy] Body count’s up to 18.', 'Sean Donovan and Ben Dunn have been identified.', 'They didn’t die for nothing.', 'Shirley said River got that file.', '[Roddy] What file?', 'Tearney killed someone, someone Sean loved, to stop that file being leaked.', 'And they told you that?', 'Before you judge me, Roddy, I can read people.', 'Oh, you can read people, can you? [chuckles] Well, you kept that hidden.', 'Yes, they were damaged, and I helped them.', 'Yeah, they’re definitely damaged now. And with bullet holes.', 'I can live with what I did because I know Charles would have approved.', 'Sakes. Charles Partner.', 'You know, the values of Tearney’s MI5 don’t sit well with me.', '[Roddy] Oh, Charles…', 'Cleanup on aisle four.', 'Messy. [chuckles, scoffs]', 'What do you make of it?', '[sighs] Interesting tale.', 'It’s not a tale.', 'That is an account of us using an untested device that put North Korean embassy workers in hospital, as well as a few passing tourists.', 'One of which, by the way, is still in a coma.', 'Yeah, well, whatever happened in Morocco–', 'Istanbul.', 'I’m sorry?', 'It was Istanbul.', 'That’s what I said.', 'No, you didn’t. You said Moro-It was Istanbul.', 'Look, it doesn’t matter, all right?', 'No, it does matter.', 'Details matter, remember? You drummed that into me.', 'Oh, I’m sorry.', 'I’m so-I’m sorry. Oh, I’m sorry.', 'I’m sorry if I’m confused by some of the details.', 'The point is,', 'if this gets out, do you know what would happen?', 'Yeah.', 'Tearney’s reputation will be destroyed and she’ll have to resign.', 'Not just her reputation, the reputation of the security services.', 'She had Alison Dunn killed for trying to get that out.', 'Sorry, what?', 'No, no. No… [stammers] …there was no mention of that here.', 'That’s hearsay.', 'Hearsay?', 'Yes, there’s no proof.', 'People died today.', 'That’s not hearsay.', 'Your personal experiences are clouding your judgment.', 'Yeah, well, I was shot at.', 'So maybe, yeah, I’m taking it a little bit fucking personally. Maybe.', 'Sometimes the stakes are higher than your personal safety.', 'And sometimes you only see part of the picture.', 'Yeah, well, maybe I see more of the picture than you know.', 'Don’t be upset.', 'What I’ve done is the right thing to protect you.', 'Fill it up.', 'Um, look, I want to, um, say thank you for saving my life today.', 'Why are you being like this?', 'Not being like anything.', 'Yes, you are.', 'Are you pissed off because you had to come and rescue me?', '[sighs] Stop pretending you don’t care about us.', 'I don’t know why you think I want to have this conversation.', 'You don’t want to have any conversation.', 'You’ve got that right.', 'Charles always said you hid your sense of duty behind your cynicism.', 'Ho, if-if she keeps talking, fucking shoot me.', 'You see? You’re proving his point.', 'Which is that you don’t want people to see the decent side of you because it makes you feel vulnerable.', 'Just g-Just get in the car.', 'Charles thought you were better than him.', 'Yeah, I was.', '[Catherine] Well, he thought you were better than everyone.', 'He said you could be First Desk. I wonder what he’d think of you now.', 'Why should I give a fuck what Charles thought of me then or now?', 'Because he was an honorable man.', '[Jackson] Oh, he was, was he?', 'You were his fucking secretary. What would you know?', 'Everything.', 'Trust me, not everything.', 'I know that unlike you, he respected me.', 'He showed me friendship. He believed in me, and he kept me on when anyone else would have thrown me to the wolves.', 'Christ, you really do pick ’em, don’t you?', 'You wanna know the truth?', 'Your hero, Charles Partner, was a-a fucking traitor.', 'What are you talking about?', 'Not even an ideological one.', 'I-I-I could almost respect that.', 'But he spent the last ten years of his life selling secrets to the fucking Russians.', 'That was your hero, your oh-so-faithful friend.', 'And do you know why he kept you on?', 'He kept you on precisely because you’re a drunk.', 'Couldn’t have anyone at his side alert enough, together enough, to pick up on what he was doing.', 'No, he-he knew he could rely on you to take life one day at a time and never see beyond the given moment.', 'I don’t believe you.', 'Yeah, you do.', 'And you know the kicker?', '[chuckling]', '[car door closing]', 'He-He-He laid a trail to make it look like you were doing the dirty.', 'He wasn’t saving you. He was fucking using you.', 'You’re lying.', 'Does it sound like a lie, or maybe something you’ve known all along and never had the courage to admit to yourself?', '[sighs] Fuck you.', 'What was that? I didn’t catch it.', 'I said, “Fuck you, Jackson Lamb.”', 'Ah.', 'Fuck the lot of you. I quit.', 'Please yourself.', '[sobs]', '[Catherine sobs, sniffles]', '[sobbing]', 'You drive.', 'What about Standish?', 'She’s walking.', 'It’s about 30 miles.', 'Just fucking drive.', '[engine starts]', 'Where to?', 'You know where.', '[“Strange Game” playing]', '[Jackson] Oh, dear.', 'Back to mine then?', 'Oh, I’d rather bathe in the canal.', 'Oh, come on. [sniffs] You can buy me an ice cream.', 'Uh, you can buy yourself an ice cream. And don’t eat it in front of me. Ugh.', 'It distresses me to say it, but thank you.', 'For what?', 'Leaking the file. Ending Tearney’s reign.', 'Giving me the job that should always have been mine.', 'That has nothing to do with me. That was Cartwright.', 'Really?', 'Yeah.', 'Oh. Well, I forgive him his previous catastrophes.', 'Almost.', 'I hear Standish has left.', 'You spent a lot of time protecting her.', 'Right. It’s only ’cause I don’t like meeting new people.', 'No, thanks.', 'I’m going to be meeting the new Home Secretary later.', 'Oh, unlucky you.', 'You don’t seem to be walking on air, having finally got what you want.', 'Well, Tearney left a terrible mess for me to clear up.', 'Oh, boo-fucking-hoo.', 'A good chunk of that mess is down to you.', 'There are net positives.', 'Oh, what, a boost for local undertakers?', 'How do you square all those bodies that dropped for you to get the top job?', 'Tearney is responsible for the kill count.', 'Well, it’s you in the hot seat now, Diana.', '[sniffs] Yeah? That must make you happy.', 'All bucks stop with you.', 'No one else to blame when shit goes wrong, which it always does.', 'Well, I relish the challenge.', 'Do you really think that you are happier than me at Slough House?', '[sniffs] Yeah, I do. And I’m fucking miserable.', '[Jackson sighs]', '[Molly] Lamb’s a tricky bastard.', '[River] When he actually gets up off his arse, he’s quite hard to beat.', '[Jackson] Fuck.', '[reporter] So, you’re in charge of the rejects?', '[Jackson] They don’t like being called that.', 'What do you call them?', 'The rejects.', 'A bomb goes off in London. It’s an Intelligence Service fuckup.', 'Get a new team in. We need to find out if there’s a second bomber.', '[yelps]', '[grunting]', '[Diana] If any hint of this gets out, any credibility that the security services have left will be shot to pieces.', '[River] Fuck off!', '[engine stalls]', 'What the-[groans]', 'River, let me see you!', 'You’ve outlived your purpose.', 'Just get on with it.', 'I was hoping you’d come on board with me. Then I wouldn’t have to kill you.', 'You’re a fucking maniac.', 'I’m going back to bed.', 'Would you also consider a shower?', 'Oh, well, that’s a tempting offer, but I don’t think that’s appropriate right now.', 'I mean, apart from anything else, one of my team just died.', '[“Strange Game” playing]', '\\n\\n\\n\\n\\n\\n', 'Your email address will not be published. Required fields are marked *', 'Name*', 'E-mail*', 'Website', ' \\n\\n', 'In “True Detective,” past arrests and mysterious events intertwine as investigators seek answers in Anne’s case, uncovering dark secrets', 'Spade searches for answers regarding the mysterious young boy that everyone seems to be looking for. Samir takes him into hiding, but no one knows what to make of his incessant writing. Spade gets a call from the elusive Philippe', 'In an interview conducted by Jon Stewart, George Carlin talks about various aspects of his life and career, reflecting upon his childhood, formative influences, and his perspectives on comedy and creativity', 'The 100th bombs German U-boat pens in Norway. With the help of Lt Crosby’s navigating, a damaged B-17 struggles to get back to Britain', '© 2024 Scraps from the Loft. All rights reserved.']\n",
            "https://scrapsfromtheloft.com/tv-series/letterkenny-s12e06-over-and-out-transcript/ \n",
            "\n",
            "['Letterkenny concludes with its series finale, Season 12 Episode 6, “Over and Out,” delivering a heartfelt and humorous farewell. The episode is filled with fun callbacks and a sense of contentment among the residents, embracing the notion that sometimes being where you are is exactly where you need to be. The finale reflects the series’ spirit of small-town life, with its quirky characters and unique humor.', 'The episode starts with a nostalgic cold open discussing local gossip and bird misconceptions, capturing the show’s typical banter. It then revisits the previous night’s events, where the gang successfully thwarts the Degens with a surprise attack, hinting at the never-ending battle between them. Amidst this, we see dream sequences, plans for reviving past endeavors like Fartbook and a rave, and an acknowledgment of the evolving relationships among the various groups in Letterkenny.', 'The Skids attempt to organize another rave, considering everyone’s music tastes, and eventually decide to cater to all. The rave at the Ag Hall becomes a significant event, bringing together the community in a joyous celebration, with everyone dancing and reminiscing. The episode subtly explores potential future relationships and closes with emotional tributes to treasured town locations and presumably to Keeso’s real-life dog, Gus.', 'The finale serves as a love letter to “Letterkenny,” its characters, and fans, promising that while the series ends, the spirit of Letterkenny and its inhabitants endures. The show leaves a legacy of laughter, witty dialogue, and the comfort of knowing the characters’ lives continue even as the audience says goodbye. The creator’s future projects, including “Shoresy,” offer some solace to fans eager for more of the Letterkenny universe.', 'Episode aired December 26, 2023', '* * *', '♪', 'You and your pals were talkin’ about the newspaper the other day…', 'They’re cutting the Storks Reports from the Letterkennys Banners.', 'Good.', 'Pardon?', 'I said they’re cutting the…', 'I heard ya.', 'Oh.', 'Good.', 'Pardon?', 'I said, they’re cutting the…', 'I was talking to Dary.', 'Oh.', 'It’s inappropriate to have a quarter-page column on page two of the Banner always announcing which nut sacks had kids.', 'It’s no more than an eighth of a page.', 'That’s splittin’ hairs.', 'And it’s only just often on page two.', 'I’ds have it right up fronts if I coulds.', 'Fucking ‘eh.', 'Why do yous two like the Stork Report so much?', 'It’s fun to reads. I gets to go, “Oh, they hads a kids!”', 'No, it’s fun to read because I get to go…', 'Oh, they had a kid?', 'Should be all business on page two.', 'I open up the Banner to see important current events.', 'Like police briefs or a calf auction, or Commanchero’s Show’n Shine.', 'Letterkenny Legionnaires scores.', 'Banner Blitz with Dan McNee.', 'Not to see which nut sacks had kids, and ekspecially under the title of “Stork Report”.', 'Starks retorts.', 'Firstly, no Stork has carried a baby anywhere.', 'And secondly, Storks aren’t even native to this area.', 'What if they calls it the Blue Herrons Reports?', 'Neither of those birds have carried babies anywhere.', 'Stop being cute, just gimme the news.', 'What?', 'Hmm?', 'Why are you lookin’ at me so long for?', '‘Cause I think… what you’ve just said… is absurd.', 'So a baby is about 10 pound.', 'If it’s a big fuckin’ fat one!', 'I was just ballparkin’ it.', 'Pretty big fat fuckin’ ballpark!', 'Okay so what if it’s an 8-pound baby?', 'Who’s gonna teach that stork to carry the baby, Wayne?', 'You?', 'I think it’s pretty obvious.', 'You think?', 'I do toos.', 'Alright. Have at ‘er.', 'A falconer.', 'A falconer?', 'Yeah.', 'One who practices falconing.', 'Practices what?', 'Falconry.', 'Falconing is the acts of calling over a birds, Darys.', 'So if you call over any bird it’s called falconing?', 'Mm-hmm.', 'What about if it’s a penguin?', 'You could still falcon it.', 'Waynes, is maybes yous confusing storks’s with pelicans?', 'What if it’s a turkey?', 'Well, turkeys get falconed all the time.', 'Really?', 'There’s probably someone out there falconing one right now.', 'Did yous knows there’s a birds called the Blue-Footed Boobys?', 'You’d need two dozen storks to get the baby airborne. Plus, you’d need some crazy contraption so you could harness the thrust of 24 storks.', 'You need science on your side.', 'You’d have to have a good relationship with science.', 'And getting 24 birds to cooperate towards a common goal?', 'In today’s social-political climate?', 'Huh.', 'Forget it.', 'Peregrine falcon. Or Pere-grin.', 'Fastest traveler of any bird of prey.', 'Top speed of about 240 mile ‘n hour.', 'Works out to about 390s kilometers per hours, gives or takes.', 'Wow. That’s fast.', 'Fastest hunters on planet earths.', 'So okay, Dary, Dary, okay…', 'Falconers falconing a Pere-grin.', 'Only elite falconers fucks with Peregrines.', 'The falconer puts his arm out, okay?', 'Goes… (whistles)', 'Means it’s time for the bird to come over.', 'Now that cock sucker’s dartin’ around thousands of feet in the air currentleh.', 'I’m thinking about 3500 feets.', 'That’s exactly what I was thinking, about 3500.', 'Now he’s got all sort of gopher, ground hog and mouses below he could bomb down on at any time, 240 mile ‘n hour.', 'Eats whats he wants whens he wants.', 'But despite all that choice below, Dary.', 'World’s his oysters.', 'Unlimited options.', 'For snacks.', 'Shootin’ fish in a barrels.', 'The Peregrine sees the falconers arm out.', 'Hears… (whistles)', 'And rather than pillaging the land, his land, the world’s fastest hunter says, “Mm-mm… I’m going to land on that nut sacks’ arm instead.”', 'For what? A peanit.', 'Have to at least bes a cashews.', 'He’d have all sorta nut.', 'Wow. Falconers are powerful.', 'A falconer could get the Peregrine to pull its dick out of his sweetie mid slide.', 'But you don’t think it could get a Stork to carry a baby?', 'He’s got you there, Darys.', 'How’s yer beer?', 'Well, I’m not saying this changes anythings, ’cause like full credit to falconers and all that, but like…', 'I was confusing storks with pelicans.', '(upbeat music)', '(rock music)', 'There’s gonna be more degens than there is us.', 'A distraction will be required to get the jump on them.', 'What do degens like?', 'Hanging bed sheets over windows?', 'Throwing gasoline on fires?', 'Driving with no shirt on?', 'I’ve got just the thing.', 'Watch this.', '(rock music)', 'How many more times do you thinks we’re gonna have to do this, good buddys?', 'Do what?', 'Beats the shits out of some degens.', 'Well, I think it’d be naive to think this is the last time, good buddy.', 'It’s fair to say one in ten peoples is degens.', 'I’d say one in eight.', 'One in eight!', 'That would mean there’s a degen among us, boys.', 'McMurray.', 'Fine, two in sixteen.', 'Look, alls I’m saying is this. There’s always gonna be degens.', 'Just as along as there’s enough non-degens to balance them out.', 'Yeah, like, stand up people.', 'Well-meaning folks.', 'Classy individuals.', 'There’s always gonna be goods guys to beats the shits out of them when they needs its.', 'Yeah, there’s always gonna be good guys.', 'Always gonna be really good guys.', 'Always always gonna be great guys.', 'Friendly.', 'Neighbourly.', 'Decent.', 'Noble.', 'Altruistic.', 'Magnanimous.', 'But do you wanna know what…', 'It sure is a pretty good time rounding up your pals to take care of ’em.', '(rock music)', '(upbeat music)', '(panting)', 'Oh. Thank you.', '(birds chirping)', '(music playing in the distance)', 'Boys.', 'Boys.', 'We’ve… been through a lot together.', 'We’ve done a pretty good job of staying out of each other’s ways over the years. That’s probably for the best, you know.', 'Hockey players and hicks haven’t traditionally gotten along well around here.', 'But after everything we’ve been through together, all the times you’ve been there for us…', 'And all the times we’ve been there for you.', 'We just wanna say that…', 'You have our respect.', 'We respect you.', 'You’ve earned it.', 'We…', 'We respect you!', 'I don’t fuckin’ care.', 'Who are ya again?', 'I don’t even know what your names are.', 'Dorito head and Fun-Dip face.', 'Wanna know what? I’ve had more respect for cats who take dog size shits.', 'Tostito twins.', 'Look at you, you got a bum chin and a fucked up nose.', 'Does that bum chin twerk when you jumpin’ rope?', 'You look like Stevie Wonder drew Johnny Bravo.', 'The Bubblicious boys.', 'I have a hard time believing your mom wasn’t drinking hard bar with you in the womb.', 'Your mom loves Jager Bombs.', 'Your alarm goes off one morning, you say,', '“Well, I fucked it all up.”', 'Oopsie.', '“I can hit snooze, my whole life’s a waste.”', 'Piss up a rope.', 'You’re a Jolly Rancher and a honey nut cheerio.', 'The Cheeto chums.', 'Do yous ever just take a look in the mirror and think like… this isn’t necessary.', 'Were you dropped as a child?', 'I’ll fuckin’ drop you as an adult.', 'The gummy bear boy and the Kit-Kat kid.', 'How’d you make outta childhood without sticking your tongue in a light socket?', 'The Peanut Butter brothers.', 'Hey, tip ’em over, let’s see if Fruity Pebbles come out.', 'A honey comb and a cookie crisp.', 'You’re a sour key and a sun chip.', 'You like Fruit by the Foot?', 'You can fruit by the fuck off.', 'Reilly! Jonesy! I cooked you breakfast.', '(both): This isn’t over!', 'Jinx. You owe me a coke.', 'Cool. I’ll feed it to the dogs.', 'No!', 'Not the maple bacon!', 'That’s the best bacon!', 'We’re coming, Katy-Kat!', '(upbeat music)', 'We are not doing it, Roald.', 'We’re doing it, Stewart.', 'We are not doing it, Roald.', 'We’re doing it, Stewart!', 'We’ve done it all! Over the years we’ve been small-town drug dealers, big city drug dealers…', 'Got jacked and conquered other big city drug dealers…', 'Entertained the hard right on the… (both): Dark web.', 'We’re The Hottest Sex Imaginable.', 'The Hottest Sex Imaginable.', 'We shall not forget about 2cock Shakur.', 'Just 2cock.', 'And most recently, we had the sexiest after hours club Letterkenny has ever seen.', 'But Roald… none of our endeavors have failed so epically as what you are suggesting.', 'Stewart.', 'None of our ventures have flopped so heroically as what you are proposing.', 'Stewart?', 'Which is precisely why we are not…', 'Stewart!', 'We are not rebooting Fartbook!', 'Or are we? (whimpering)', 'Or are we…', 'Stewart says we’re not.', 'Ugh. Fine. Fluff you then.', 'You took it from us, Glen.', 'Oh. And left it better than I found it. And what the truck is wrong with that?', 'You stole it!', 'Yous may think I stole Fartbook from you, but cheese and rice, that world was moving fast and it was leaving you behind.', 'I could match its pace.', 'Unfartunately, yous could not.', 'Come to think of it, I feel like something was holding you back the whole time, Stewart.', 'Stewart?', 'It used to take talent for someone to want to point a camera at you.', 'Perhaps the greatest social breakthrough of our time, or all time, is when the kids realized that it takes no talent whatsoever to point a camera at yourself.', 'I came into Fartbook with a bit of gas and a dream.', 'Champion of the Bronx cheer.', 'The over saturation of amateurs on the platform killed that dream.', 'They slipped in silently without us ever noticing.', 'Silent… but violent.', 'And like all Fartune 500 companies, corruption slowly crept in.', 'The most powerful lobby of them all: Big Fartma.', 'The site was no longer about the fartist.', 'Almost overnight, it had become just one more victim of the Gastro Industrial Complex.', 'But, Stewart, dareth you say it was all for not?', 'Yes, Glen.', 'I dareth.', '(sighing)', 'Oh my gourd.', 'How sooneth we forget, Stewart.', 'Without Fartbook, there would be no OnlyFarts.', 'Fart work is work!', 'Fartbook walked so iToots could run.', 'Spotifart is the superior platform.', 'Cleared the chamber for iFartRadio.', 'Who after a successful GoFartMe campaign, acquired YouToot, Stinkedln and Break Wind Mobile.', 'You’re right, Glen.', 'I dareth not say.', 'So we’re rebooting Fartbook, Stewart?', 'No, Roald. If we’re going back to our roots, we’re going all the way back.', 'Further back than Fartbook?', 'To what?', 'A rave at the Ag Hall!', '(birds chirping)', 'K.', 'You sure?', 'Sure.', 'Are you sure?', 'We are sure.', 'For sure, we’re sure. (chuckling)', 'Are you sure?', 'We’re sure.', 'You’re sure?', 'That we’re sure?', 'Yes, you’re sure you’re sure?', '(all): We’re sure.', 'Why?', 'Well, it’s ’cause…', '(mumbling)', 'Pardon? (mumbling)', 'What?', '‘Cause agricultural halls are for agricultural music.', 'Oh yeah.', 'Oh yeah.', 'And we know how much you guys love country music.', 'No.', 'You don’t love country music?', 'No.', 'Not even a bit?', 'Not one bits.', 'Not one drill bit.', 'Not one bell pepper.', '(both): Yahtzee.', 'Well…', 'Maybe one bell pepper.', 'Yeah, maybe one drill bit.', 'Sure, one bits.', 'You’re sure?', 'We’re sure.', 'Well, I think… Yeah, I like it a wee bit.', 'A little dab’ll do ya.', 'Everything in moderation.', 'Small doses are fine.', 'So… we can have a rave at the Ag Hall?', 'I just don’t suppose it makes a ton of sense to limit a choice venue like the Ag Hall to a genre of music we only like one bell pepper.', '(laughing)', 'Wow!', 'In the spirit of family!', 'Take about 20% off ‘er, there, bud.', 'In the spirit of friendship!', 'More.', 'Fellowship?', 'More.', 'Camaraderie?', 'More.', 'In the spirit of community!', 'We…', 'The skids.', 'Would like to cordially invite you…', 'The hicks.', 'To our rave at the Ag Hall!', '(all): No thank you.', 'What’s the point of having a rave at the Ag Hall if no one comes again?', 'I’m sorry, are you talking to us?', 'Was that not clear?', 'It wasn’t crystal.', 'Ditch the attitude, Aly-cat.', 'Bit muddy.', 'Fitting for a dirty girl, Bianca-donk!', 'Roald.', 'Stewart.', 'Can you help us or not?', 'Can you believe we had sex with this guy?', 'Mm-hmm.', 'Mm-hmm.', 'Mm-hmm. Bro. Figure it out.', 'Figure what out?', 'If they won’t come for rave music, figure out what music they will come for.', 'Post-Emo Core Step?', 'No.', 'Folktronic Glitch-A-Billy?', 'No.', 'Extempo Freakbeat?', 'No.', 'CanCon K-Pop?', 'No.', 'Blue Eyed Countrypolitan?', 'No.', 'Old School Nu-Metal?', 'No.', 'Hamburger Brit Hop?', 'No.', 'Nicaraguan Neo-Oldies?', 'No.', 'Lo-Fi Billboard Prog?', 'No.', 'Madrigal Speed Trap?', 'No.', 'Tin Pan 2-Step?', 'No.', 'Surf Trance Trip Twee?', 'No.', 'Baltimore Acid Baroque?', 'No!', 'Big Room Big Band Big Beat?', 'No!', 'Ugh!', 'Okay. Letterkenny consists of hicks, skids and hockey players.', 'And Christians.', '(hissing)', 'I told you we were done here, Glen.', 'Oh are we?', 'Are we?', 'If you want people to come, just have a little something for everyone.', 'Brilliant. How are we gonna get the word out, Stewart?', 'We are going to put it on our fucking Facebook.', 'And you are going to put it on your fucking Facebook!', 'Fluff Facebook.', '(rhythmic music)', '(♪)', '(needle slides off the record, music stops)', '(crying)', '(squealing)', '(squealing)', '(crying)', '(banging)', 'Hey!', 'The fuckin’ door’s locked!', '(breathing heavily)', 'Oh?', 'One of yous gonna let us in?', 'Yes! (clears throat)', 'Yes, of course!', 'Well, fucking pitter-patter!', '(rock music)', 'Thank you, everyone.', 'Sincerely.', 'Thank you for coming to our hockey-themed hick rave.', 'Blessed by the Lord.', 'As a special treat, and as a token of our appreciation, we’ve decided to debut our electronic remix of a local favourite. (imitates record scratching)', '(exclaiming)', 'Pitter-patter.', 'Dick skin?', 'Dickens.', 'Is my last name.', 'Ladies and gentlemen, are you ready…', 'Ready, ready…', 'Ready…', 'for “Sun Darts Reimagined?”', 'That’s a Texas size 10-4.', 'Over and out.', '(rock music)', '(nostalgic music)', '♪ Sun Darts', 'Reimagined ♪', '\\n\\n\\n\\n\\n\\n', 'Your email address will not be published. Required fields are marked *', 'Name*', 'E-mail*', 'Website', ' \\n\\n', 'In “True Detective,” past arrests and mysterious events intertwine as investigators seek answers in Anne’s case, uncovering dark secrets', 'Spade searches for answers regarding the mysterious young boy that everyone seems to be looking for. Samir takes him into hiding, but no one knows what to make of his incessant writing. Spade gets a call from the elusive Philippe', 'In an interview conducted by Jon Stewart, George Carlin talks about various aspects of his life and career, reflecting upon his childhood, formative influences, and his perspectives on comedy and creativity', 'The 100th bombs German U-boat pens in Norway. With the help of Lt Crosby’s navigating, a damaged B-17 struggles to get back to Britain', '© 2024 Scraps from the Loft. All rights reserved.']\n"
          ]
        }
      ],
      "source": [
        "# # Actually request transcripts (takes a few minutes to run)\n",
        "transcripts = [url_to_transcript(u) for u in urls]"
      ]
    },
    {
      "cell_type": "code",
      "execution_count": null,
      "metadata": {
        "id": "3E53_p7ltUKH"
      },
      "outputs": [],
      "source": [
        "# Pickle files for later use\n",
        "\n",
        "# Make a new directory to hold the text files\n",
        "!mkdir transcripts\n",
        "\n",
        "for i, c in enumerate(TvSeries):\n",
        "    with open(\"transcripts/\" + c + \".txt\", \"wb\") as file:\n",
        "        pickle.dump(transcripts[i], file)"
      ]
    },
    {
      "cell_type": "code",
      "execution_count": null,
      "metadata": {
        "id": "mRQNZgwGtUKH"
      },
      "outputs": [],
      "source": [
        "# Load pickled files\n",
        "data = {}\n",
        "for  c in TvSeries:\n",
        "    with open(\"transcripts/\" + c + \".txt\", \"rb\") as file:\n",
        "        data[c] = pickle.load(file)"
      ]
    },
    {
      "cell_type": "code",
      "execution_count": null,
      "metadata": {
        "id": "24nVj9EttUKH",
        "outputId": "8e2b8811-7f39-42ef-d610-2d1ba7eef0d4"
      },
      "outputs": [
        {
          "data": {
            "text/plain": [
              "dict_keys(['TRUE DETECTIVE', 'MASTERS OF THE AIR', 'MONSIEUR SPADE', 'SLOW HORSES', 'LETTERKENNY'])"
            ]
          },
          "execution_count": 54,
          "metadata": {},
          "output_type": "execute_result"
        }
      ],
      "source": [
        "# Double check to make sure data has been loaded properly\n",
        "data.keys()"
      ]
    },
    {
      "cell_type": "code",
      "execution_count": null,
      "metadata": {
        "id": "pbqUJ_MvtUKI",
        "outputId": "de89b277-8751-406b-fa5d-d383758d91bc"
      },
      "outputs": [
        {
          "data": {
            "text/plain": [
              "['True Detective\\nSeason 4 Episode 3\\nEpisode Title:\\xa0\\nOriginal release date: January 28, 2024 (HBO and Max)',\n",
              " 'Plot summary: In this episode of True Detective, a complex web of past and present events unfolds. Seven years ago, Navarro’s encounter with Anne, initially arrested for damaging the Silver Sky mining factory, takes an unexpected turn as she discovers her dedication to assisting pregnant women in need. In the present day, Hank enlists the help of his hunter friends in the search for Clark, despite Navarro’s reservations. Danvers delves into her troubled history with Navarro, revealing their investigation into a violent criminal named William Wheeler. Susan, a friend of Anne, divulges crucial information about Anne’s involvement with Clark and her past relationship with a Tsalal member, Oliver Tabaq. Meanwhile, a mysterious discovery regarding the deceased researchers raises questions, and Lund’s awakening brings forth cryptic and unsettling revelations, leaving Danvers and Navarro with more questions than answers.']"
            ]
          },
          "execution_count": 55,
          "metadata": {},
          "output_type": "execute_result"
        }
      ],
      "source": [
        "# More checks\n",
        "data['TRUE DETECTIVE'][:2]"
      ]
    },
    {
      "cell_type": "markdown",
      "metadata": {
        "id": "gp_ZkLnwtUKI"
      },
      "source": [
        "## Cleaning The Data"
      ]
    },
    {
      "cell_type": "markdown",
      "metadata": {
        "id": "hi5opFNotUKI"
      },
      "source": [
        "When dealing with numerical data, data cleaning often involves removing null values and duplicate data, dealing with outliers, etc. With text data, there are some common data cleaning techniques, which are also known as text pre-processing techniques.\n",
        "\n",
        "With text data, this cleaning process can go on forever. There's always an exception to every cleaning step. So, we're going to follow the MVP (minimum viable product) approach - start simple and iterate.\n",
        "### Assignment:\n",
        "1. Perform the following data cleaning on transcripts:\n",
        "i) Make text all lower case\n",
        "ii) Remove punctuation\n",
        "iii) Remove numerical values\n",
        "iv) Remove common non-sensical text (/n)\n",
        "v) Tokenize text\n",
        "vi) Remove stop words"
      ]
    },
    {
      "cell_type": "code",
      "execution_count": null,
      "metadata": {
        "id": "6IZDcByDtUKI",
        "outputId": "73f1c48b-cf21-4e73-ff3f-63ac6921ca50"
      },
      "outputs": [
        {
          "data": {
            "text/plain": [
              "'TRUE DETECTIVE'"
            ]
          },
          "execution_count": 57,
          "metadata": {},
          "output_type": "execute_result"
        }
      ],
      "source": [
        "# Let's take a look at our data again\n",
        "next(iter(data.keys()))"
      ]
    },
    {
      "cell_type": "code",
      "execution_count": null,
      "metadata": {
        "id": "z70UgqIXtUKI"
      },
      "outputs": [],
      "source": [
        "# Notice that our dictionary is currently in key: comedian, value: list of text format\n",
        "next(iter(data.values()))"
      ]
    },
    {
      "cell_type": "code",
      "execution_count": null,
      "metadata": {
        "id": "rqEanVU6tUKI"
      },
      "outputs": [],
      "source": [
        "# We are going to change this to key: comedian, value: string format\n",
        "def combine_text(list_of_text):\n",
        "    '''Takes a list of text and combines them into one large chunk of text.'''\n",
        "    combined_text = ' '.join(list_of_text)\n",
        "    return combined_text"
      ]
    },
    {
      "cell_type": "code",
      "execution_count": null,
      "metadata": {
        "id": "JlltLJ-WtUKI"
      },
      "outputs": [],
      "source": [
        "# Combine it!\n",
        "data_combined = {key: [combine_text(value)] for (key, value) in data.items()}"
      ]
    },
    {
      "cell_type": "code",
      "execution_count": null,
      "metadata": {
        "scrolled": true,
        "id": "y5l-N9rUtUKI",
        "outputId": "5bcc3814-1282-4fd0-ef5d-2c6548ec5c1f"
      },
      "outputs": [
        {
          "data": {
            "text/html": [
              "<div>\n",
              "<style scoped>\n",
              "    .dataframe tbody tr th:only-of-type {\n",
              "        vertical-align: middle;\n",
              "    }\n",
              "\n",
              "    .dataframe tbody tr th {\n",
              "        vertical-align: top;\n",
              "    }\n",
              "\n",
              "    .dataframe thead th {\n",
              "        text-align: right;\n",
              "    }\n",
              "</style>\n",
              "<table border=\"1\" class=\"dataframe\">\n",
              "  <thead>\n",
              "    <tr style=\"text-align: right;\">\n",
              "      <th></th>\n",
              "      <th>transcript</th>\n",
              "    </tr>\n",
              "  </thead>\n",
              "  <tbody>\n",
              "    <tr>\n",
              "      <th>LETTERKENNY</th>\n",
              "      <td>Letterkenny concludes with its series finale, Season 12 Episode 6, “Over and Out,” delivering a heartfelt and humorous farewell. The episode is fi...</td>\n",
              "    </tr>\n",
              "    <tr>\n",
              "      <th>MASTERS OF THE AIR</th>\n",
              "      <td>“Masters of the Air,” a 2024 American war drama miniseries, heralds a new chapter in streaming television. Crafted by the creative duo John Shiban...</td>\n",
              "    </tr>\n",
              "    <tr>\n",
              "      <th>MONSIEUR SPADE</th>\n",
              "      <td>Monsieur Spade\\nSeason 1 Episode 2\\nEpisode Title: n/a\\nOriginal release date: January 21, 2024 After a horrific murder shocks a small town, retir...</td>\n",
              "    </tr>\n",
              "    <tr>\n",
              "      <th>SLOW HORSES</th>\n",
              "      <td>Episode Title: Footprints\\nSeries: Slow Horses\\nSeason: 3\\nEpisode: 6\\nOriginal release date: December 27, 2023\\nPlot Summary: In Slow Horses‘ sea...</td>\n",
              "    </tr>\n",
              "    <tr>\n",
              "      <th>TRUE DETECTIVE</th>\n",
              "      <td>True Detective\\nSeason 4 Episode 3\\nEpisode Title: \\nOriginal release date: January 28, 2024 (HBO and Max) Plot summary: In this episode of True D...</td>\n",
              "    </tr>\n",
              "  </tbody>\n",
              "</table>\n",
              "</div>"
            ],
            "text/plain": [
              "                                                                                                                                                               transcript\n",
              "LETTERKENNY         Letterkenny concludes with its series finale, Season 12 Episode 6, “Over and Out,” delivering a heartfelt and humorous farewell. The episode is fi...\n",
              "MASTERS OF THE AIR  “Masters of the Air,” a 2024 American war drama miniseries, heralds a new chapter in streaming television. Crafted by the creative duo John Shiban...\n",
              "MONSIEUR SPADE      Monsieur Spade\\nSeason 1 Episode 2\\nEpisode Title: n/a\\nOriginal release date: January 21, 2024 After a horrific murder shocks a small town, retir...\n",
              "SLOW HORSES         Episode Title: Footprints\\nSeries: Slow Horses\\nSeason: 3\\nEpisode: 6\\nOriginal release date: December 27, 2023\\nPlot Summary: In Slow Horses‘ sea...\n",
              "TRUE DETECTIVE      True Detective\\nSeason 4 Episode 3\\nEpisode Title: \\nOriginal release date: January 28, 2024 (HBO and Max) Plot summary: In this episode of True D..."
            ]
          },
          "execution_count": 61,
          "metadata": {},
          "output_type": "execute_result"
        }
      ],
      "source": [
        "# We can either keep it in dictionary format or put it into a pandas dataframe\n",
        "import pandas as pd\n",
        "pd.set_option('max_colwidth',150)\n",
        "\n",
        "data_df = pd.DataFrame.from_dict(data_combined).transpose()\n",
        "data_df.columns = ['transcript']\n",
        "data_df = data_df.sort_index()\n",
        "data_df"
      ]
    },
    {
      "cell_type": "code",
      "execution_count": null,
      "metadata": {
        "id": "kPnaXDUutUKJ"
      },
      "outputs": [],
      "source": [
        "# Let's take a look at the transcript for SLOW HORSES\n",
        "data_df.transcript.loc['SLOW HORSES']"
      ]
    },
    {
      "cell_type": "code",
      "execution_count": null,
      "metadata": {
        "id": "TJB-jtFOtUKJ"
      },
      "outputs": [],
      "source": [
        "# Apply a first round of text cleaning techniques\n",
        "import re\n",
        "import string\n",
        "\n",
        "def clean_text_round1(text):\n",
        "    '''Make text lowercase, remove text in square brackets, remove punctuation and remove words containing numbers.'''\n",
        "    # text = text.lower()\n",
        "    # text = re.sub('\\[.*?\\]', '', text)\n",
        "    # text = re.sub('[%s]' % re.escape(string.punctuation), '', text)\n",
        "    # text = re.sub('\\w*\\d\\w*', '', text)\n",
        "    # return text\n",
        "    text = text.lower()\n",
        "    text = re.sub(r\"\\[[^\\]]*\\]\", \"\", text)\n",
        "    text = re.sub(r\"[^\\w\\s]\", \"\", text)\n",
        "    text = re.sub(r\"\\w*\\d+\\w*\", \"\", text)\n",
        "    return text\n",
        "\n",
        "round1 = lambda x: clean_text_round1(x)"
      ]
    },
    {
      "cell_type": "code",
      "execution_count": null,
      "metadata": {
        "id": "OmZf1SUctUKJ",
        "outputId": "b4f9601b-5d35-478e-c152-a285b6d79cc3"
      },
      "outputs": [
        {
          "data": {
            "text/html": [
              "<div>\n",
              "<style scoped>\n",
              "    .dataframe tbody tr th:only-of-type {\n",
              "        vertical-align: middle;\n",
              "    }\n",
              "\n",
              "    .dataframe tbody tr th {\n",
              "        vertical-align: top;\n",
              "    }\n",
              "\n",
              "    .dataframe thead th {\n",
              "        text-align: right;\n",
              "    }\n",
              "</style>\n",
              "<table border=\"1\" class=\"dataframe\">\n",
              "  <thead>\n",
              "    <tr style=\"text-align: right;\">\n",
              "      <th></th>\n",
              "      <th>transcript</th>\n",
              "    </tr>\n",
              "  </thead>\n",
              "  <tbody>\n",
              "    <tr>\n",
              "      <th>LETTERKENNY</th>\n",
              "      <td>letterkenny concludes with its series finale season  episode  over and out delivering a heartfelt and humorous farewell the episode is filled with...</td>\n",
              "    </tr>\n",
              "    <tr>\n",
              "      <th>MASTERS OF THE AIR</th>\n",
              "      <td>masters of the air a  american war drama miniseries heralds a new chapter in streaming television crafted by the creative duo john shiban and john...</td>\n",
              "    </tr>\n",
              "    <tr>\n",
              "      <th>MONSIEUR SPADE</th>\n",
              "      <td>monsieur spade\\nseason  episode \\nepisode title na\\noriginal release date january   after a horrific murder shocks a small town retired detective ...</td>\n",
              "    </tr>\n",
              "    <tr>\n",
              "      <th>SLOW HORSES</th>\n",
              "      <td>episode title footprints\\nseries slow horses\\nseason \\nepisode \\noriginal release date december  \\nplot summary in slow horses season  finale foot...</td>\n",
              "    </tr>\n",
              "    <tr>\n",
              "      <th>TRUE DETECTIVE</th>\n",
              "      <td>true detective\\nseason  episode \\nepisode title \\noriginal release date january   hbo and max plot summary in this episode of true detective a com...</td>\n",
              "    </tr>\n",
              "  </tbody>\n",
              "</table>\n",
              "</div>"
            ],
            "text/plain": [
              "                                                                                                                                                               transcript\n",
              "LETTERKENNY         letterkenny concludes with its series finale season  episode  over and out delivering a heartfelt and humorous farewell the episode is filled with...\n",
              "MASTERS OF THE AIR  masters of the air a  american war drama miniseries heralds a new chapter in streaming television crafted by the creative duo john shiban and john...\n",
              "MONSIEUR SPADE      monsieur spade\\nseason  episode \\nepisode title na\\noriginal release date january   after a horrific murder shocks a small town retired detective ...\n",
              "SLOW HORSES         episode title footprints\\nseries slow horses\\nseason \\nepisode \\noriginal release date december  \\nplot summary in slow horses season  finale foot...\n",
              "TRUE DETECTIVE      true detective\\nseason  episode \\nepisode title \\noriginal release date january   hbo and max plot summary in this episode of true detective a com..."
            ]
          },
          "execution_count": 65,
          "metadata": {},
          "output_type": "execute_result"
        }
      ],
      "source": [
        "# Let's take a look at the updated text\n",
        "data_clean = pd.DataFrame(data_df.transcript.apply(round1))\n",
        "data_clean"
      ]
    },
    {
      "cell_type": "code",
      "execution_count": null,
      "metadata": {
        "id": "uE9-ksjxtUKJ"
      },
      "outputs": [],
      "source": [
        "# Apply a second round of cleaning\n",
        "def clean_text_round2(text):\n",
        "    '''Get rid of some additional punctuation and non-sensical text that was missed the first time around.'''\n",
        "    text = re.sub('[‘’“”…]', '', text)\n",
        "    text = re.sub('\\n', '', text)\n",
        "    return text\n",
        "\n",
        "round2 = lambda x: clean_text_round2(x)"
      ]
    },
    {
      "cell_type": "code",
      "execution_count": null,
      "metadata": {
        "id": "G89P2LQutUKJ",
        "outputId": "c9da1020-58ba-43bf-8daf-4fbd98009796"
      },
      "outputs": [
        {
          "data": {
            "text/html": [
              "<div>\n",
              "<style scoped>\n",
              "    .dataframe tbody tr th:only-of-type {\n",
              "        vertical-align: middle;\n",
              "    }\n",
              "\n",
              "    .dataframe tbody tr th {\n",
              "        vertical-align: top;\n",
              "    }\n",
              "\n",
              "    .dataframe thead th {\n",
              "        text-align: right;\n",
              "    }\n",
              "</style>\n",
              "<table border=\"1\" class=\"dataframe\">\n",
              "  <thead>\n",
              "    <tr style=\"text-align: right;\">\n",
              "      <th></th>\n",
              "      <th>transcript</th>\n",
              "    </tr>\n",
              "  </thead>\n",
              "  <tbody>\n",
              "    <tr>\n",
              "      <th>LETTERKENNY</th>\n",
              "      <td>letterkenny concludes with its series finale season  episode  over and out delivering a heartfelt and humorous farewell the episode is filled with...</td>\n",
              "    </tr>\n",
              "    <tr>\n",
              "      <th>MASTERS OF THE AIR</th>\n",
              "      <td>masters of the air a  american war drama miniseries heralds a new chapter in streaming television crafted by the creative duo john shiban and john...</td>\n",
              "    </tr>\n",
              "    <tr>\n",
              "      <th>MONSIEUR SPADE</th>\n",
              "      <td>monsieur spadeseason  episode episode title naoriginal release date january   after a horrific murder shocks a small town retired detective spade ...</td>\n",
              "    </tr>\n",
              "    <tr>\n",
              "      <th>SLOW HORSES</th>\n",
              "      <td>episode title footprintsseries slow horsesseason episode original release date december  plot summary in slow horses season  finale footprints the...</td>\n",
              "    </tr>\n",
              "    <tr>\n",
              "      <th>TRUE DETECTIVE</th>\n",
              "      <td>true detectiveseason  episode episode title original release date january   hbo and max plot summary in this episode of true detective a complex w...</td>\n",
              "    </tr>\n",
              "  </tbody>\n",
              "</table>\n",
              "</div>"
            ],
            "text/plain": [
              "                                                                                                                                                               transcript\n",
              "LETTERKENNY         letterkenny concludes with its series finale season  episode  over and out delivering a heartfelt and humorous farewell the episode is filled with...\n",
              "MASTERS OF THE AIR  masters of the air a  american war drama miniseries heralds a new chapter in streaming television crafted by the creative duo john shiban and john...\n",
              "MONSIEUR SPADE      monsieur spadeseason  episode episode title naoriginal release date january   after a horrific murder shocks a small town retired detective spade ...\n",
              "SLOW HORSES         episode title footprintsseries slow horsesseason episode original release date december  plot summary in slow horses season  finale footprints the...\n",
              "TRUE DETECTIVE      true detectiveseason  episode episode title original release date january   hbo and max plot summary in this episode of true detective a complex w..."
            ]
          },
          "execution_count": 67,
          "metadata": {},
          "output_type": "execute_result"
        }
      ],
      "source": [
        "# Let's take a look at the updated text\n",
        "data_clean = pd.DataFrame(data_clean.transcript.apply(round2))\n",
        "data_clean"
      ]
    },
    {
      "cell_type": "markdown",
      "metadata": {
        "id": "m5Yn4zkstUKJ"
      },
      "source": [
        "## Organizing The Data"
      ]
    },
    {
      "cell_type": "markdown",
      "metadata": {
        "id": "HDHu8Hf_tUKJ"
      },
      "source": [
        "### Assignment:\n",
        "1. Organized data in two standard text formats:\n",
        "   a) Corpus - corpus is a collection of texts, and they are all put together neatly in a pandas dataframe here.\n",
        "   b) Document-Term Matrix - word counts in matrix format"
      ]
    },
    {
      "cell_type": "markdown",
      "metadata": {
        "id": "cWy0O2MAtUKJ"
      },
      "source": [
        "### Corpus: Example"
      ]
    },
    {
      "cell_type": "markdown",
      "metadata": {
        "id": "h06T98c5tUKJ"
      },
      "source": [
        "A corpus is a collection of texts, and they are all put together neatly in a pandas dataframe here."
      ]
    },
    {
      "cell_type": "code",
      "execution_count": null,
      "metadata": {
        "id": "rv8lYzRztUKJ",
        "outputId": "7dd6c9ae-116d-4815-ef18-b0136f5311ad"
      },
      "outputs": [
        {
          "data": {
            "text/html": [
              "<div>\n",
              "<style scoped>\n",
              "    .dataframe tbody tr th:only-of-type {\n",
              "        vertical-align: middle;\n",
              "    }\n",
              "\n",
              "    .dataframe tbody tr th {\n",
              "        vertical-align: top;\n",
              "    }\n",
              "\n",
              "    .dataframe thead th {\n",
              "        text-align: right;\n",
              "    }\n",
              "</style>\n",
              "<table border=\"1\" class=\"dataframe\">\n",
              "  <thead>\n",
              "    <tr style=\"text-align: right;\">\n",
              "      <th></th>\n",
              "      <th>transcript</th>\n",
              "    </tr>\n",
              "  </thead>\n",
              "  <tbody>\n",
              "    <tr>\n",
              "      <th>LETTERKENNY</th>\n",
              "      <td>Letterkenny concludes with its series finale, Season 12 Episode 6, “Over and Out,” delivering a heartfelt and humorous farewell. The episode is fi...</td>\n",
              "    </tr>\n",
              "    <tr>\n",
              "      <th>MASTERS OF THE AIR</th>\n",
              "      <td>“Masters of the Air,” a 2024 American war drama miniseries, heralds a new chapter in streaming television. Crafted by the creative duo John Shiban...</td>\n",
              "    </tr>\n",
              "    <tr>\n",
              "      <th>MONSIEUR SPADE</th>\n",
              "      <td>Monsieur Spade\\nSeason 1 Episode 2\\nEpisode Title: n/a\\nOriginal release date: January 21, 2024 After a horrific murder shocks a small town, retir...</td>\n",
              "    </tr>\n",
              "    <tr>\n",
              "      <th>SLOW HORSES</th>\n",
              "      <td>Episode Title: Footprints\\nSeries: Slow Horses\\nSeason: 3\\nEpisode: 6\\nOriginal release date: December 27, 2023\\nPlot Summary: In Slow Horses‘ sea...</td>\n",
              "    </tr>\n",
              "    <tr>\n",
              "      <th>TRUE DETECTIVE</th>\n",
              "      <td>True Detective\\nSeason 4 Episode 3\\nEpisode Title: \\nOriginal release date: January 28, 2024 (HBO and Max) Plot summary: In this episode of True D...</td>\n",
              "    </tr>\n",
              "  </tbody>\n",
              "</table>\n",
              "</div>"
            ],
            "text/plain": [
              "                                                                                                                                                               transcript\n",
              "LETTERKENNY         Letterkenny concludes with its series finale, Season 12 Episode 6, “Over and Out,” delivering a heartfelt and humorous farewell. The episode is fi...\n",
              "MASTERS OF THE AIR  “Masters of the Air,” a 2024 American war drama miniseries, heralds a new chapter in streaming television. Crafted by the creative duo John Shiban...\n",
              "MONSIEUR SPADE      Monsieur Spade\\nSeason 1 Episode 2\\nEpisode Title: n/a\\nOriginal release date: January 21, 2024 After a horrific murder shocks a small town, retir...\n",
              "SLOW HORSES         Episode Title: Footprints\\nSeries: Slow Horses\\nSeason: 3\\nEpisode: 6\\nOriginal release date: December 27, 2023\\nPlot Summary: In Slow Horses‘ sea...\n",
              "TRUE DETECTIVE      True Detective\\nSeason 4 Episode 3\\nEpisode Title: \\nOriginal release date: January 28, 2024 (HBO and Max) Plot summary: In this episode of True D..."
            ]
          },
          "execution_count": 68,
          "metadata": {},
          "output_type": "execute_result"
        }
      ],
      "source": [
        "# Let's take a look at our dataframe\n",
        "data_df"
      ]
    },
    {
      "cell_type": "code",
      "execution_count": null,
      "metadata": {
        "id": "bwTb-mWStUKK",
        "outputId": "219ae4ad-157a-4b4a-bead-bc2695af2502"
      },
      "outputs": [
        {
          "data": {
            "text/html": [
              "<div>\n",
              "<style scoped>\n",
              "    .dataframe tbody tr th:only-of-type {\n",
              "        vertical-align: middle;\n",
              "    }\n",
              "\n",
              "    .dataframe tbody tr th {\n",
              "        vertical-align: top;\n",
              "    }\n",
              "\n",
              "    .dataframe thead th {\n",
              "        text-align: right;\n",
              "    }\n",
              "</style>\n",
              "<table border=\"1\" class=\"dataframe\">\n",
              "  <thead>\n",
              "    <tr style=\"text-align: right;\">\n",
              "      <th></th>\n",
              "      <th>transcript</th>\n",
              "      <th>full_name</th>\n",
              "    </tr>\n",
              "  </thead>\n",
              "  <tbody>\n",
              "    <tr>\n",
              "      <th>LETTERKENNY</th>\n",
              "      <td>Letterkenny concludes with its series finale, Season 12 Episode 6, “Over and Out,” delivering a heartfelt and humorous farewell. The episode is fi...</td>\n",
              "      <td>LETTERKENNY – S12E06 – OVER AND OUT</td>\n",
              "    </tr>\n",
              "    <tr>\n",
              "      <th>MASTERS OF THE AIR</th>\n",
              "      <td>“Masters of the Air,” a 2024 American war drama miniseries, heralds a new chapter in streaming television. Crafted by the creative duo John Shiban...</td>\n",
              "      <td>MASTERS OF THE AIR – S01E01 – PART ONE</td>\n",
              "    </tr>\n",
              "    <tr>\n",
              "      <th>MONSIEUR SPADE</th>\n",
              "      <td>Monsieur Spade\\nSeason 1 Episode 2\\nEpisode Title: n/a\\nOriginal release date: January 21, 2024 After a horrific murder shocks a small town, retir...</td>\n",
              "      <td>MONSIEUR SPADE – EPISODE 2</td>\n",
              "    </tr>\n",
              "    <tr>\n",
              "      <th>SLOW HORSES</th>\n",
              "      <td>Episode Title: Footprints\\nSeries: Slow Horses\\nSeason: 3\\nEpisode: 6\\nOriginal release date: December 27, 2023\\nPlot Summary: In Slow Horses‘ sea...</td>\n",
              "      <td>SLOW HORSES – S03E06 – FOOTPRINTS</td>\n",
              "    </tr>\n",
              "    <tr>\n",
              "      <th>TRUE DETECTIVE</th>\n",
              "      <td>True Detective\\nSeason 4 Episode 3\\nEpisode Title: \\nOriginal release date: January 28, 2024 (HBO and Max) Plot summary: In this episode of True D...</td>\n",
              "      <td>TRUE DETECTIVE – S04E03 – PART 3</td>\n",
              "    </tr>\n",
              "  </tbody>\n",
              "</table>\n",
              "</div>"
            ],
            "text/plain": [
              "                                                                                                                                                               transcript  \\\n",
              "LETTERKENNY         Letterkenny concludes with its series finale, Season 12 Episode 6, “Over and Out,” delivering a heartfelt and humorous farewell. The episode is fi...   \n",
              "MASTERS OF THE AIR  “Masters of the Air,” a 2024 American war drama miniseries, heralds a new chapter in streaming television. Crafted by the creative duo John Shiban...   \n",
              "MONSIEUR SPADE      Monsieur Spade\\nSeason 1 Episode 2\\nEpisode Title: n/a\\nOriginal release date: January 21, 2024 After a horrific murder shocks a small town, retir...   \n",
              "SLOW HORSES         Episode Title: Footprints\\nSeries: Slow Horses\\nSeason: 3\\nEpisode: 6\\nOriginal release date: December 27, 2023\\nPlot Summary: In Slow Horses‘ sea...   \n",
              "TRUE DETECTIVE      True Detective\\nSeason 4 Episode 3\\nEpisode Title: \\nOriginal release date: January 28, 2024 (HBO and Max) Plot summary: In this episode of True D...   \n",
              "\n",
              "                                                  full_name  \n",
              "LETTERKENNY            LETTERKENNY – S12E06 – OVER AND OUT   \n",
              "MASTERS OF THE AIR  MASTERS OF THE AIR – S01E01 – PART ONE   \n",
              "MONSIEUR SPADE                  MONSIEUR SPADE – EPISODE 2   \n",
              "SLOW HORSES               SLOW HORSES – S03E06 – FOOTPRINTS  \n",
              "TRUE DETECTIVE             TRUE DETECTIVE – S04E03 – PART 3  "
            ]
          },
          "execution_count": 73,
          "metadata": {},
          "output_type": "execute_result"
        }
      ],
      "source": [
        "# Let's add the comedians' full names as well\n",
        "full_names = ['LETTERKENNY – S12E06 – OVER AND OUT ','MASTERS OF THE AIR – S01E01 – PART ONE ','MONSIEUR SPADE – EPISODE 2 ','SLOW HORSES – S03E06 – FOOTPRINTS','TRUE DETECTIVE – S04E03 – PART 3']\n",
        "data_df['full_name'] = full_names\n",
        "data_df"
      ]
    },
    {
      "cell_type": "code",
      "execution_count": null,
      "metadata": {
        "id": "WzewC0sUtUKK"
      },
      "outputs": [],
      "source": [
        "# Let's pickle it for later use\n",
        "data_df.to_pickle(\"corpus.pkl\")"
      ]
    },
    {
      "cell_type": "markdown",
      "metadata": {
        "id": "B1Z5z9wmtUKK"
      },
      "source": [
        "### Document-Term Matrix: Example"
      ]
    },
    {
      "cell_type": "markdown",
      "metadata": {
        "id": "79M-5a7ltUKK"
      },
      "source": [
        "For many of the techniques we'll be using in future assignment, the text must be tokenized, meaning broken down into smaller pieces. The most common tokenization technique is to break down text into words. We can do this using scikit-learn's ` CountVectorizer `, where every row will represent a different document and every column will represent a different word.\n",
        "\n",
        "In addition, with ` CountVectorizer `, we can remove stop words. Stop words are common words that add no additional meaning to text such as 'a', 'the', etc."
      ]
    },
    {
      "cell_type": "code",
      "execution_count": null,
      "metadata": {
        "id": "937EXoKLtUKK",
        "outputId": "90a78794-ec53-43fd-da25-d71f381665bd"
      },
      "outputs": [
        {
          "data": {
            "text/html": [
              "<div>\n",
              "<style scoped>\n",
              "    .dataframe tbody tr th:only-of-type {\n",
              "        vertical-align: middle;\n",
              "    }\n",
              "\n",
              "    .dataframe tbody tr th {\n",
              "        vertical-align: top;\n",
              "    }\n",
              "\n",
              "    .dataframe thead th {\n",
              "        text-align: right;\n",
              "    }\n",
              "</style>\n",
              "<table border=\"1\" class=\"dataframe\">\n",
              "  <thead>\n",
              "    <tr style=\"text-align: right;\">\n",
              "      <th></th>\n",
              "      <th>aa</th>\n",
              "      <th>aah</th>\n",
              "      <th>abbotts</th>\n",
              "      <th>able</th>\n",
              "      <th>absence</th>\n",
              "      <th>absurd</th>\n",
              "      <th>accent</th>\n",
              "      <th>accident</th>\n",
              "      <th>according</th>\n",
              "      <th>account</th>\n",
              "      <th>...</th>\n",
              "      <th>youll</th>\n",
              "      <th>young</th>\n",
              "      <th>younger</th>\n",
              "      <th>youre</th>\n",
              "      <th>yous</th>\n",
              "      <th>youtoot</th>\n",
              "      <th>youve</th>\n",
              "      <th>zahid</th>\n",
              "      <th>zero</th>\n",
              "      <th>zootsuit</th>\n",
              "    </tr>\n",
              "  </thead>\n",
              "  <tbody>\n",
              "    <tr>\n",
              "      <th>LETTERKENNY</th>\n",
              "      <td>0</td>\n",
              "      <td>0</td>\n",
              "      <td>0</td>\n",
              "      <td>0</td>\n",
              "      <td>0</td>\n",
              "      <td>1</td>\n",
              "      <td>0</td>\n",
              "      <td>0</td>\n",
              "      <td>0</td>\n",
              "      <td>0</td>\n",
              "      <td>...</td>\n",
              "      <td>0</td>\n",
              "      <td>1</td>\n",
              "      <td>0</td>\n",
              "      <td>7</td>\n",
              "      <td>7</td>\n",
              "      <td>1</td>\n",
              "      <td>3</td>\n",
              "      <td>0</td>\n",
              "      <td>0</td>\n",
              "      <td>0</td>\n",
              "    </tr>\n",
              "    <tr>\n",
              "      <th>MASTERS OF THE AIR</th>\n",
              "      <td>0</td>\n",
              "      <td>0</td>\n",
              "      <td>1</td>\n",
              "      <td>3</td>\n",
              "      <td>0</td>\n",
              "      <td>0</td>\n",
              "      <td>0</td>\n",
              "      <td>0</td>\n",
              "      <td>0</td>\n",
              "      <td>0</td>\n",
              "      <td>...</td>\n",
              "      <td>6</td>\n",
              "      <td>1</td>\n",
              "      <td>0</td>\n",
              "      <td>15</td>\n",
              "      <td>0</td>\n",
              "      <td>0</td>\n",
              "      <td>2</td>\n",
              "      <td>0</td>\n",
              "      <td>2</td>\n",
              "      <td>2</td>\n",
              "    </tr>\n",
              "    <tr>\n",
              "      <th>MONSIEUR SPADE</th>\n",
              "      <td>0</td>\n",
              "      <td>0</td>\n",
              "      <td>0</td>\n",
              "      <td>1</td>\n",
              "      <td>1</td>\n",
              "      <td>0</td>\n",
              "      <td>0</td>\n",
              "      <td>0</td>\n",
              "      <td>0</td>\n",
              "      <td>0</td>\n",
              "      <td>...</td>\n",
              "      <td>2</td>\n",
              "      <td>2</td>\n",
              "      <td>1</td>\n",
              "      <td>6</td>\n",
              "      <td>0</td>\n",
              "      <td>0</td>\n",
              "      <td>3</td>\n",
              "      <td>1</td>\n",
              "      <td>0</td>\n",
              "      <td>0</td>\n",
              "    </tr>\n",
              "    <tr>\n",
              "      <th>SLOW HORSES</th>\n",
              "      <td>1</td>\n",
              "      <td>0</td>\n",
              "      <td>0</td>\n",
              "      <td>0</td>\n",
              "      <td>0</td>\n",
              "      <td>0</td>\n",
              "      <td>0</td>\n",
              "      <td>0</td>\n",
              "      <td>0</td>\n",
              "      <td>1</td>\n",
              "      <td>...</td>\n",
              "      <td>1</td>\n",
              "      <td>1</td>\n",
              "      <td>0</td>\n",
              "      <td>14</td>\n",
              "      <td>0</td>\n",
              "      <td>0</td>\n",
              "      <td>4</td>\n",
              "      <td>0</td>\n",
              "      <td>0</td>\n",
              "      <td>0</td>\n",
              "    </tr>\n",
              "    <tr>\n",
              "      <th>TRUE DETECTIVE</th>\n",
              "      <td>0</td>\n",
              "      <td>3</td>\n",
              "      <td>0</td>\n",
              "      <td>0</td>\n",
              "      <td>0</td>\n",
              "      <td>0</td>\n",
              "      <td>1</td>\n",
              "      <td>1</td>\n",
              "      <td>1</td>\n",
              "      <td>0</td>\n",
              "      <td>...</td>\n",
              "      <td>2</td>\n",
              "      <td>1</td>\n",
              "      <td>0</td>\n",
              "      <td>15</td>\n",
              "      <td>0</td>\n",
              "      <td>0</td>\n",
              "      <td>3</td>\n",
              "      <td>0</td>\n",
              "      <td>0</td>\n",
              "      <td>0</td>\n",
              "    </tr>\n",
              "  </tbody>\n",
              "</table>\n",
              "<p>5 rows × 3230 columns</p>\n",
              "</div>"
            ],
            "text/plain": [
              "                    aa  aah  abbotts  able  absence  absurd  accent  accident  \\\n",
              "LETTERKENNY          0    0        0     0        0       1       0         0   \n",
              "MASTERS OF THE AIR   0    0        1     3        0       0       0         0   \n",
              "MONSIEUR SPADE       0    0        0     1        1       0       0         0   \n",
              "SLOW HORSES          1    0        0     0        0       0       0         0   \n",
              "TRUE DETECTIVE       0    3        0     0        0       0       1         1   \n",
              "\n",
              "                    according  account  ...  youll  young  younger  youre  \\\n",
              "LETTERKENNY                 0        0  ...      0      1        0      7   \n",
              "MASTERS OF THE AIR          0        0  ...      6      1        0     15   \n",
              "MONSIEUR SPADE              0        0  ...      2      2        1      6   \n",
              "SLOW HORSES                 0        1  ...      1      1        0     14   \n",
              "TRUE DETECTIVE              1        0  ...      2      1        0     15   \n",
              "\n",
              "                    yous  youtoot  youve  zahid  zero  zootsuit  \n",
              "LETTERKENNY            7        1      3      0     0         0  \n",
              "MASTERS OF THE AIR     0        0      2      0     2         2  \n",
              "MONSIEUR SPADE         0        0      3      1     0         0  \n",
              "SLOW HORSES            0        0      4      0     0         0  \n",
              "TRUE DETECTIVE         0        0      3      0     0         0  \n",
              "\n",
              "[5 rows x 3230 columns]"
            ]
          },
          "execution_count": 75,
          "metadata": {},
          "output_type": "execute_result"
        }
      ],
      "source": [
        "# We are going to create a document-term matrix using CountVectorizer, and exclude common English stop words\n",
        "from sklearn.feature_extraction.text import CountVectorizer\n",
        "\n",
        "cv = CountVectorizer(stop_words='english')\n",
        "data_cv = cv.fit_transform(data_clean.transcript)\n",
        "data_dtm = pd.DataFrame(data_cv.toarray(), columns=cv.get_feature_names_out())\n",
        "data_dtm.index = data_clean.index\n",
        "data_dtm"
      ]
    },
    {
      "cell_type": "code",
      "execution_count": null,
      "metadata": {
        "id": "So2QeH5atUKK"
      },
      "outputs": [],
      "source": [
        "# Let's pickle it for later use\n",
        "data_dtm.to_pickle(\"dtm.pkl\")"
      ]
    },
    {
      "cell_type": "code",
      "execution_count": null,
      "metadata": {
        "id": "xWh996nTtUKK"
      },
      "outputs": [],
      "source": [
        "# Let's also pickle the cleaned data (before we put it in document-term matrix format) and the CountVectorizer object\n",
        "data_clean.to_pickle('data_clean.pkl')\n",
        "pickle.dump(cv, open(\"cv.pkl\", \"wb\"))"
      ]
    },
    {
      "cell_type": "markdown",
      "metadata": {
        "collapsed": true,
        "jupyter": {
          "outputs_hidden": true
        },
        "id": "BLNub9N0tUKK"
      },
      "source": [
        "## Additional Assignments:"
      ]
    },
    {
      "cell_type": "markdown",
      "metadata": {
        "id": "3gE83dPZtUKL"
      },
      "source": [
        "1. Can you add an additional regular expression to the clean_text_round2 function to further clean the text?\n",
        "2. Play around with CountVectorizer's parameters. What is ngram_range? What is min_df and max_df?"
      ]
    },
    {
      "cell_type": "code",
      "execution_count": null,
      "metadata": {
        "collapsed": true,
        "jupyter": {
          "outputs_hidden": true
        },
        "id": "a_dmRiuotUKL"
      },
      "outputs": [],
      "source": []
    }
  ],
  "metadata": {
    "kernelspec": {
      "display_name": "Python 3 (ipykernel)",
      "language": "python",
      "name": "python3"
    },
    "language_info": {
      "codemirror_mode": {
        "name": "ipython",
        "version": 3
      },
      "file_extension": ".py",
      "mimetype": "text/x-python",
      "name": "python",
      "nbconvert_exporter": "python",
      "pygments_lexer": "ipython3",
      "version": "3.11.5"
    },
    "toc": {
      "nav_menu": {},
      "number_sections": true,
      "sideBar": true,
      "skip_h1_title": false,
      "toc_cell": false,
      "toc_position": {},
      "toc_section_display": "block",
      "toc_window_display": false
    },
    "varInspector": {
      "cols": {
        "lenName": 16,
        "lenType": 16,
        "lenVar": 40
      },
      "kernels_config": {
        "python": {
          "delete_cmd_postfix": "",
          "delete_cmd_prefix": "del ",
          "library": "var_list.py",
          "varRefreshCmd": "print(var_dic_list())"
        },
        "r": {
          "delete_cmd_postfix": ") ",
          "delete_cmd_prefix": "rm(",
          "library": "var_list.r",
          "varRefreshCmd": "cat(var_dic_list()) "
        }
      },
      "types_to_exclude": [
        "module",
        "function",
        "builtin_function_or_method",
        "instance",
        "_Feature"
      ],
      "window_display": false
    },
    "colab": {
      "provenance": [],
      "include_colab_link": true
    }
  },
  "nbformat": 4,
  "nbformat_minor": 0
}